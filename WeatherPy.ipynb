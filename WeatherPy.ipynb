{
 "cells": [
  {
   "cell_type": "markdown",
   "metadata": {},
   "source": [
    "# WeatherPy\n",
    "\n",
    "---\n",
    "\n",
    "## Starter Code to Generate Random Geographic Coordinates and a List of Cities"
   ]
  },
  {
   "cell_type": "code",
   "execution_count": 1,
   "metadata": {
    "scrolled": true
   },
   "outputs": [],
   "source": [
    "# Dependencies and Setup\n",
    "import matplotlib.pyplot as plt\n",
    "import pandas as pd\n",
    "import numpy as np\n",
    "import requests\n",
    "import time\n",
    "import json\n",
    "from scipy.stats import linregress\n",
    "\n",
    "# Impor the OpenWeatherMap API key\n",
    "from api_keys import weather_api_key\n",
    "\n",
    "# Import citipy to determine the cities based on latitude and longitude\n",
    "from citipy import citipy"
   ]
  },
  {
   "cell_type": "markdown",
   "metadata": {},
   "source": [
    "### Generate the Cities List by Using the `citipy` Library"
   ]
  },
  {
   "cell_type": "code",
   "execution_count": 2,
   "metadata": {},
   "outputs": [
    {
     "name": "stdout",
     "output_type": "stream",
     "text": [
      "Number of cities in the list: 613\n"
     ]
    }
   ],
   "source": [
    "# Empty list for holding the latitude and longitude combinations\n",
    "lat_lngs = []\n",
    "\n",
    "# Empty list for holding the cities names\n",
    "cities = []\n",
    "\n",
    "# Range of latitudes and longitudes\n",
    "lat_range = (-90, 90)\n",
    "lng_range = (-180, 180)\n",
    "\n",
    "# Create a set of random lat and lng combinations\n",
    "lats = np.random.uniform(lat_range[0], lat_range[1], size=1500)\n",
    "lngs = np.random.uniform(lng_range[0], lng_range[1], size=1500)\n",
    "lat_lngs = zip(lats, lngs)\n",
    "\n",
    "# Identify nearest city for each lat, lng combination\n",
    "for lat_lng in lat_lngs:\n",
    "    city = citipy.nearest_city(lat_lng[0], lat_lng[1]).city_name\n",
    "    \n",
    "    # If the city is unique, then add it to a our cities list\n",
    "    if city not in cities:\n",
    "        cities.append(city)\n",
    "\n",
    "# Print the city count to confirm sufficient count\n",
    "print(f\"Number of cities in the list: {len(cities)}\")"
   ]
  },
  {
   "cell_type": "markdown",
   "metadata": {},
   "source": [
    "---"
   ]
  },
  {
   "cell_type": "markdown",
   "metadata": {},
   "source": [
    "## Requirement 1: Create Plots to Showcase the Relationship Between Weather Variables and Latitude\n",
    "\n",
    "### Use the OpenWeatherMap API to retrieve weather data from the cities list generated in the started code"
   ]
  },
  {
   "cell_type": "code",
   "execution_count": 3,
   "metadata": {},
   "outputs": [
    {
     "name": "stdout",
     "output_type": "stream",
     "text": [
      "Beginning Data Retrieval     \n",
      "-----------------------------\n",
      "Processing Record 1 of Set 1 | lorengau\n",
      "Processing Record 2 of Set 1 | salacgriva\n",
      "Processing Record 3 of Set 1 | avarua\n",
      "Processing Record 4 of Set 1 | okahandja\n",
      "Processing Record 5 of Set 1 | cape town\n",
      "Processing Record 6 of Set 1 | rikitea\n",
      "Processing Record 7 of Set 1 | sao pedro do sul\n",
      "Processing Record 8 of Set 1 | hermanus\n",
      "Processing Record 9 of Set 1 | barentsburg\n",
      "City not found. Skipping...\n",
      "Processing Record 10 of Set 1 | inderborskiy\n",
      "City not found. Skipping...\n",
      "Processing Record 11 of Set 1 | chokurdakh\n",
      "Processing Record 12 of Set 1 | ajdabiya\n",
      "Processing Record 13 of Set 1 | north bend\n",
      "Processing Record 14 of Set 1 | hobart\n",
      "Processing Record 15 of Set 1 | sitka\n",
      "Processing Record 16 of Set 1 | talnakh\n",
      "Processing Record 17 of Set 1 | bredasdorp\n",
      "Processing Record 18 of Set 1 | albany\n",
      "Processing Record 19 of Set 1 | jamestown\n",
      "Processing Record 20 of Set 1 | pesochnoye\n",
      "Processing Record 21 of Set 1 | castro\n",
      "Processing Record 22 of Set 1 | taloqan\n",
      "Processing Record 23 of Set 1 | tuktoyaktuk\n",
      "Processing Record 24 of Set 1 | port hardy\n",
      "Processing Record 25 of Set 1 | ixtapa\n",
      "Processing Record 26 of Set 1 | hunchun\n",
      "Processing Record 27 of Set 1 | zharkovskiy\n",
      "Processing Record 28 of Set 1 | daxian\n",
      "City not found. Skipping...\n",
      "Processing Record 29 of Set 1 | shenzhen\n",
      "Processing Record 30 of Set 1 | punta arenas\n",
      "Processing Record 31 of Set 1 | mineros\n",
      "Processing Record 32 of Set 1 | georgetown\n",
      "Processing Record 33 of Set 1 | haines junction\n",
      "Processing Record 34 of Set 1 | leningradskiy\n",
      "Processing Record 35 of Set 1 | tuatapere\n",
      "Processing Record 36 of Set 1 | salamanca\n",
      "Processing Record 37 of Set 1 | avanigadda\n",
      "Processing Record 38 of Set 1 | dikson\n",
      "Processing Record 39 of Set 1 | busselton\n",
      "Processing Record 40 of Set 1 | homa bay\n",
      "Processing Record 41 of Set 1 | mount isa\n",
      "Processing Record 42 of Set 1 | yenagoa\n",
      "Processing Record 43 of Set 1 | guerrero negro\n",
      "Processing Record 44 of Set 1 | cayenne\n",
      "Processing Record 45 of Set 1 | soligalich\n",
      "Processing Record 46 of Set 1 | peniche\n",
      "Processing Record 47 of Set 1 | kirakira\n",
      "Processing Record 48 of Set 1 | mataura\n",
      "Processing Record 49 of Set 1 | bluff\n",
      "Processing Record 50 of Set 1 | namibe\n",
      "Processing Record 0 of Set 2 | nelson bay\n",
      "Processing Record 1 of Set 2 | rungata\n",
      "City not found. Skipping...\n",
      "Processing Record 2 of Set 2 | tuy hoa\n",
      "Processing Record 3 of Set 2 | nishihara\n",
      "Processing Record 4 of Set 2 | hilo\n",
      "Processing Record 5 of Set 2 | zhigansk\n",
      "Processing Record 6 of Set 2 | krasnoselkup\n",
      "Processing Record 7 of Set 2 | taolanaro\n",
      "City not found. Skipping...\n",
      "Processing Record 8 of Set 2 | esperance\n",
      "Processing Record 9 of Set 2 | san patricio\n",
      "Processing Record 10 of Set 2 | suzun\n",
      "Processing Record 11 of Set 2 | qaqortoq\n",
      "Processing Record 12 of Set 2 | vaini\n",
      "Processing Record 13 of Set 2 | iquitos\n",
      "Processing Record 14 of Set 2 | santa eulalia del rio\n",
      "City not found. Skipping...\n",
      "Processing Record 15 of Set 2 | qaanaaq\n",
      "Processing Record 16 of Set 2 | kapaa\n",
      "Processing Record 17 of Set 2 | ushuaia\n",
      "Processing Record 18 of Set 2 | mys shmidta\n",
      "City not found. Skipping...\n",
      "Processing Record 19 of Set 2 | portland\n",
      "Processing Record 20 of Set 2 | mindelo\n",
      "Processing Record 21 of Set 2 | victoria\n",
      "Processing Record 22 of Set 2 | tlaxco\n",
      "Processing Record 23 of Set 2 | hihifo\n",
      "City not found. Skipping...\n",
      "Processing Record 24 of Set 2 | mar del plata\n",
      "Processing Record 25 of Set 2 | nikolskoye\n",
      "Processing Record 26 of Set 2 | dzhusaly\n",
      "City not found. Skipping...\n",
      "Processing Record 27 of Set 2 | ambilobe\n",
      "Processing Record 28 of Set 2 | saldanha\n",
      "Processing Record 29 of Set 2 | naze\n",
      "Processing Record 30 of Set 2 | monastyrshchina\n",
      "Processing Record 31 of Set 2 | aras\n",
      "Processing Record 32 of Set 2 | barrow\n",
      "Processing Record 33 of Set 2 | bida\n",
      "Processing Record 34 of Set 2 | lifford\n",
      "Processing Record 35 of Set 2 | waverly\n",
      "Processing Record 36 of Set 2 | butembo\n",
      "Processing Record 37 of Set 2 | utiel\n",
      "Processing Record 38 of Set 2 | muravlenko\n",
      "Processing Record 39 of Set 2 | fremont\n",
      "Processing Record 40 of Set 2 | khani\n",
      "Processing Record 41 of Set 2 | hasaki\n",
      "Processing Record 42 of Set 2 | tual\n",
      "Processing Record 43 of Set 2 | grand river south east\n",
      "City not found. Skipping...\n",
      "Processing Record 44 of Set 2 | yellowknife\n",
      "Processing Record 45 of Set 2 | wilmington\n",
      "Processing Record 46 of Set 2 | brzesko\n",
      "Processing Record 47 of Set 2 | palmer\n",
      "Processing Record 48 of Set 2 | mount gambier\n",
      "Processing Record 49 of Set 2 | alofi\n",
      "Processing Record 0 of Set 3 | ketchikan\n",
      "Processing Record 1 of Set 3 | baykit\n",
      "Processing Record 2 of Set 3 | luderitz\n",
      "Processing Record 3 of Set 3 | saint anthony\n",
      "Processing Record 4 of Set 3 | illoqqortoormiut\n",
      "City not found. Skipping...\n",
      "Processing Record 5 of Set 3 | ilebo\n",
      "Processing Record 6 of Set 3 | sagarejo\n",
      "Processing Record 7 of Set 3 | champerico\n",
      "Processing Record 8 of Set 3 | saryozek\n",
      "Processing Record 9 of Set 3 | port lincoln\n",
      "Processing Record 10 of Set 3 | duku\n",
      "Processing Record 11 of Set 3 | ponta do sol\n",
      "Processing Record 12 of Set 3 | atuona\n",
      "Processing Record 13 of Set 3 | sur\n",
      "Processing Record 14 of Set 3 | saint-philippe\n",
      "Processing Record 15 of Set 3 | bethel\n",
      "Processing Record 16 of Set 3 | chachapoyas\n",
      "Processing Record 17 of Set 3 | moerai\n",
      "Processing Record 18 of Set 3 | tiksi\n",
      "Processing Record 19 of Set 3 | sussex\n",
      "Processing Record 20 of Set 3 | constitucion\n",
      "Processing Record 21 of Set 3 | poum\n",
      "Processing Record 22 of Set 3 | provideniya\n",
      "Processing Record 23 of Set 3 | saleaula\n",
      "City not found. Skipping...\n",
      "Processing Record 24 of Set 3 | sao jose da coroa grande\n",
      "Processing Record 25 of Set 3 | lompoc\n",
      "Processing Record 26 of Set 3 | upernavik\n",
      "Processing Record 27 of Set 3 | laguna\n",
      "Processing Record 28 of Set 3 | klaksvik\n",
      "Processing Record 29 of Set 3 | erzurum\n",
      "Processing Record 30 of Set 3 | new norfolk\n",
      "Processing Record 31 of Set 3 | greenville\n",
      "Processing Record 32 of Set 3 | hamilton\n",
      "Processing Record 33 of Set 3 | tyukalinsk\n",
      "Processing Record 34 of Set 3 | dusti\n",
      "Processing Record 35 of Set 3 | santa lucia\n",
      "Processing Record 36 of Set 3 | petropavlovskaya\n",
      "Processing Record 37 of Set 3 | yulara\n",
      "Processing Record 38 of Set 3 | byron bay\n",
      "Processing Record 39 of Set 3 | agbor\n",
      "Processing Record 40 of Set 3 | sfantu gheorghe\n",
      "Processing Record 41 of Set 3 | karaul\n",
      "City not found. Skipping...\n",
      "Processing Record 42 of Set 3 | mahebourg\n",
      "Processing Record 43 of Set 3 | minsk mazowiecki\n",
      "Processing Record 44 of Set 3 | gazanjyk\n",
      "Processing Record 45 of Set 3 | hanzhong\n",
      "Processing Record 46 of Set 3 | bafoulabe\n",
      "Processing Record 47 of Set 3 | malartic\n",
      "Processing Record 48 of Set 3 | puerto ayora\n",
      "Processing Record 49 of Set 3 | port-cartier\n",
      "Processing Record 0 of Set 4 | deputatskiy\n",
      "Processing Record 1 of Set 4 | boguchany\n",
      "Processing Record 2 of Set 4 | marrakesh\n",
      "Processing Record 3 of Set 4 | mitsamiouli\n",
      "Processing Record 4 of Set 4 | cherskiy\n",
      "Processing Record 5 of Set 4 | port elizabeth\n",
      "Processing Record 6 of Set 4 | afyonkarahisar\n",
      "Processing Record 7 of Set 4 | micheweni\n",
      "Processing Record 8 of Set 4 | hanna\n",
      "Processing Record 9 of Set 4 | abu samrah\n",
      "Processing Record 10 of Set 4 | carlos chagas\n",
      "Processing Record 11 of Set 4 | churapcha\n",
      "Processing Record 12 of Set 4 | gazojak\n",
      "Processing Record 13 of Set 4 | manta\n",
      "Processing Record 14 of Set 4 | belushya guba\n",
      "City not found. Skipping...\n",
      "Processing Record 15 of Set 4 | tupik\n",
      "Processing Record 16 of Set 4 | gondanglegi\n",
      "Processing Record 17 of Set 4 | karaikkudi\n",
      "Processing Record 18 of Set 4 | danielskuil\n",
      "Processing Record 19 of Set 4 | san quintin\n",
      "Processing Record 20 of Set 4 | tsihombe\n",
      "City not found. Skipping...\n",
      "Processing Record 21 of Set 4 | changli\n",
      "Processing Record 22 of Set 4 | khatanga\n",
      "Processing Record 23 of Set 4 | butaritari\n",
      "Processing Record 24 of Set 4 | wurzen\n",
      "Processing Record 25 of Set 4 | mocambique\n",
      "City not found. Skipping...\n",
      "Processing Record 26 of Set 4 | ouesso\n",
      "Processing Record 27 of Set 4 | sao gabriel da cachoeira\n",
      "Processing Record 28 of Set 4 | lebu\n",
      "Processing Record 29 of Set 4 | salalah\n",
      "Processing Record 30 of Set 4 | bijie\n",
      "Processing Record 31 of Set 4 | nakhon thai\n",
      "Processing Record 32 of Set 4 | carnarvon\n",
      "Processing Record 33 of Set 4 | margherita\n",
      "Processing Record 34 of Set 4 | temirtau\n"
     ]
    },
    {
     "name": "stdout",
     "output_type": "stream",
     "text": [
      "Processing Record 35 of Set 4 | kodiak\n",
      "Processing Record 36 of Set 4 | richards bay\n",
      "Processing Record 37 of Set 4 | hermosillo\n",
      "Processing Record 38 of Set 4 | faya\n",
      "Processing Record 39 of Set 4 | touros\n",
      "Processing Record 40 of Set 4 | atbasar\n",
      "Processing Record 41 of Set 4 | attawapiskat\n",
      "City not found. Skipping...\n",
      "Processing Record 42 of Set 4 | douentza\n",
      "Processing Record 43 of Set 4 | kungsbacka\n",
      "Processing Record 44 of Set 4 | tukrah\n",
      "Processing Record 45 of Set 4 | ribeira grande\n",
      "Processing Record 46 of Set 4 | udachnyy\n",
      "Processing Record 47 of Set 4 | stanovoye\n",
      "Processing Record 48 of Set 4 | saryshagan\n",
      "City not found. Skipping...\n",
      "Processing Record 49 of Set 4 | cabedelo\n",
      "Processing Record 0 of Set 5 | mandurah\n",
      "Processing Record 1 of Set 5 | olafsvik\n",
      "Processing Record 2 of Set 5 | broome\n",
      "Processing Record 3 of Set 5 | zuya\n",
      "Processing Record 4 of Set 5 | gulmarg\n",
      "Processing Record 5 of Set 5 | faanui\n",
      "Processing Record 6 of Set 5 | zheleznodorozhnyy\n",
      "Processing Record 7 of Set 5 | coquimbo\n",
      "Processing Record 8 of Set 5 | taoudenni\n",
      "Processing Record 9 of Set 5 | sao joao da barra\n",
      "Processing Record 10 of Set 5 | sentyabrskiy\n",
      "City not found. Skipping...\n",
      "Processing Record 11 of Set 5 | canakkale\n",
      "Processing Record 12 of Set 5 | lazaro cardenas\n",
      "Processing Record 13 of Set 5 | kaitangata\n",
      "Processing Record 14 of Set 5 | port alfred\n",
      "Processing Record 15 of Set 5 | port hueneme\n",
      "Processing Record 16 of Set 5 | labuhan\n",
      "Processing Record 17 of Set 5 | berbera\n",
      "Processing Record 18 of Set 5 | kaspiyskiy\n",
      "Processing Record 19 of Set 5 | sai buri\n",
      "Processing Record 20 of Set 5 | henties bay\n",
      "Processing Record 21 of Set 5 | tongchuan\n",
      "Processing Record 22 of Set 5 | iqaluit\n",
      "Processing Record 23 of Set 5 | birin\n",
      "Processing Record 24 of Set 5 | kahului\n",
      "Processing Record 25 of Set 5 | kilindoni\n",
      "Processing Record 26 of Set 5 | wanning\n",
      "Processing Record 27 of Set 5 | kruisfontein\n",
      "Processing Record 28 of Set 5 | ortigueira\n",
      "Processing Record 29 of Set 5 | wewak\n",
      "Processing Record 30 of Set 5 | neuquen\n",
      "Processing Record 31 of Set 5 | kysyl-syr\n",
      "Processing Record 32 of Set 5 | imbituba\n",
      "Processing Record 33 of Set 5 | statesboro\n",
      "Processing Record 34 of Set 5 | mahaicony\n",
      "City not found. Skipping...\n",
      "Processing Record 35 of Set 5 | thinadhoo\n",
      "Processing Record 36 of Set 5 | san isidro\n",
      "Processing Record 37 of Set 5 | tumannyy\n",
      "City not found. Skipping...\n",
      "Processing Record 38 of Set 5 | samusu\n",
      "City not found. Skipping...\n",
      "Processing Record 39 of Set 5 | nizhneyansk\n",
      "City not found. Skipping...\n",
      "Processing Record 40 of Set 5 | saskylakh\n",
      "Processing Record 41 of Set 5 | naryan-mar\n",
      "Processing Record 42 of Set 5 | warqla\n",
      "City not found. Skipping...\n",
      "Processing Record 43 of Set 5 | harper\n",
      "Processing Record 44 of Set 5 | amderma\n",
      "City not found. Skipping...\n",
      "Processing Record 45 of Set 5 | coahuayana\n",
      "Processing Record 46 of Set 5 | longyearbyen\n",
      "Processing Record 47 of Set 5 | xichang\n",
      "Processing Record 48 of Set 5 | shushtar\n",
      "Processing Record 49 of Set 5 | ostrovnoy\n",
      "Processing Record 0 of Set 6 | kamenskoye\n",
      "City not found. Skipping...\n",
      "Processing Record 1 of Set 6 | pevek\n",
      "Processing Record 2 of Set 6 | tasiilaq\n",
      "Processing Record 3 of Set 6 | gimli\n",
      "Processing Record 4 of Set 6 | tura\n",
      "Processing Record 5 of Set 6 | moscow\n",
      "Processing Record 6 of Set 6 | bo\n",
      "City not found. Skipping...\n",
      "Processing Record 7 of Set 6 | nome\n",
      "Processing Record 8 of Set 6 | thompson\n",
      "Processing Record 9 of Set 6 | hithadhoo\n",
      "Processing Record 10 of Set 6 | karaidel\n",
      "Processing Record 11 of Set 6 | hunza\n",
      "City not found. Skipping...\n",
      "Processing Record 12 of Set 6 | comodoro rivadavia\n",
      "Processing Record 13 of Set 6 | tessalit\n",
      "Processing Record 14 of Set 6 | shingu\n",
      "Processing Record 15 of Set 6 | okhotsk\n",
      "Processing Record 16 of Set 6 | miastko\n",
      "Processing Record 17 of Set 6 | akdepe\n",
      "Processing Record 18 of Set 6 | arraial do cabo\n",
      "Processing Record 19 of Set 6 | kutno\n",
      "Processing Record 20 of Set 6 | east london\n",
      "Processing Record 21 of Set 6 | moron\n",
      "Processing Record 22 of Set 6 | metro\n",
      "Processing Record 23 of Set 6 | sainte-rose\n",
      "Processing Record 24 of Set 6 | sorland\n",
      "Processing Record 25 of Set 6 | wynyard\n",
      "Processing Record 26 of Set 6 | sao filipe\n",
      "Processing Record 27 of Set 6 | chuy\n",
      "Processing Record 28 of Set 6 | herat\n",
      "Processing Record 29 of Set 6 | paamiut\n",
      "Processing Record 30 of Set 6 | coihaique\n",
      "Processing Record 31 of Set 6 | olinda\n",
      "Processing Record 32 of Set 6 | puerto carreno\n",
      "Processing Record 33 of Set 6 | ilulissat\n",
      "Processing Record 34 of Set 6 | bengkulu\n",
      "Processing Record 35 of Set 6 | lavrentiya\n",
      "Processing Record 36 of Set 6 | porbandar\n",
      "Processing Record 37 of Set 6 | vuktyl\n",
      "Processing Record 38 of Set 6 | portales\n",
      "Processing Record 39 of Set 6 | petatlan\n",
      "Processing Record 40 of Set 6 | wahiawa\n",
      "Processing Record 41 of Set 6 | ossora\n",
      "Processing Record 42 of Set 6 | kamaishi\n",
      "Processing Record 43 of Set 6 | mullaitivu\n",
      "City not found. Skipping...\n",
      "Processing Record 44 of Set 6 | aberystwyth\n",
      "Processing Record 45 of Set 6 | chingola\n",
      "Processing Record 46 of Set 6 | corn island\n",
      "Processing Record 47 of Set 6 | dakar\n",
      "Processing Record 48 of Set 6 | lolua\n",
      "City not found. Skipping...\n",
      "Processing Record 49 of Set 6 | varzea da palma\n",
      "Processing Record 0 of Set 7 | asau\n",
      "Processing Record 1 of Set 7 | yar-sale\n",
      "Processing Record 2 of Set 7 | boddam\n",
      "Processing Record 3 of Set 7 | mehamn\n",
      "Processing Record 4 of Set 7 | okitipupa\n",
      "Processing Record 5 of Set 7 | beloha\n",
      "Processing Record 6 of Set 7 | slave lake\n",
      "Processing Record 7 of Set 7 | kampot\n",
      "Processing Record 8 of Set 7 | gornopravdinsk\n",
      "Processing Record 9 of Set 7 | aswan\n",
      "Processing Record 10 of Set 7 | tautira\n",
      "Processing Record 11 of Set 7 | husavik\n",
      "Processing Record 12 of Set 7 | nanortalik\n",
      "Processing Record 13 of Set 7 | chastoozerye\n",
      "City not found. Skipping...\n",
      "Processing Record 14 of Set 7 | aklavik\n",
      "Processing Record 15 of Set 7 | linxia\n",
      "Processing Record 16 of Set 7 | winslow\n",
      "Processing Record 17 of Set 7 | rawson\n",
      "Processing Record 18 of Set 7 | daru\n",
      "Processing Record 19 of Set 7 | warmbad\n",
      "Processing Record 20 of Set 7 | vila velha\n",
      "Processing Record 21 of Set 7 | narsaq\n",
      "Processing Record 22 of Set 7 | rauma\n",
      "Processing Record 23 of Set 7 | shiyan\n",
      "Processing Record 24 of Set 7 | sydney\n",
      "Processing Record 25 of Set 7 | zhangye\n",
      "Processing Record 26 of Set 7 | airai\n",
      "Processing Record 27 of Set 7 | charlestown\n",
      "Processing Record 28 of Set 7 | mianyang\n",
      "Processing Record 29 of Set 7 | bac lieu\n",
      "Processing Record 30 of Set 7 | maracai\n",
      "Processing Record 31 of Set 7 | port victoria\n",
      "Processing Record 32 of Set 7 | bassano\n",
      "Processing Record 33 of Set 7 | syedove\n",
      "Processing Record 34 of Set 7 | shuyskoye\n",
      "Processing Record 35 of Set 7 | arman\n",
      "Processing Record 36 of Set 7 | vila franca do campo\n",
      "Processing Record 37 of Set 7 | sisimiut\n",
      "Processing Record 38 of Set 7 | esmeraldas\n",
      "Processing Record 39 of Set 7 | bulgan\n",
      "Processing Record 40 of Set 7 | paciran\n",
      "Processing Record 41 of Set 7 | cafarnaum\n",
      "Processing Record 42 of Set 7 | vallenar\n",
      "Processing Record 43 of Set 7 | bam\n",
      "Processing Record 44 of Set 7 | strezhevoy\n",
      "Processing Record 45 of Set 7 | saint-louis\n",
      "Processing Record 46 of Set 7 | batagay-alyta\n",
      "Processing Record 47 of Set 7 | sinjah\n",
      "City not found. Skipping...\n",
      "Processing Record 48 of Set 7 | grand-santi\n",
      "Processing Record 49 of Set 7 | caravelas\n",
      "Processing Record 0 of Set 8 | beringovskiy\n",
      "Processing Record 1 of Set 8 | northam\n",
      "Processing Record 2 of Set 8 | nargana\n",
      "Processing Record 3 of Set 8 | kijang\n",
      "Processing Record 4 of Set 8 | bella union\n",
      "Processing Record 5 of Set 8 | killam\n",
      "Processing Record 6 of Set 8 | mandalay\n",
      "Processing Record 7 of Set 8 | hambantota\n",
      "Processing Record 8 of Set 8 | la ronge\n",
      "Processing Record 9 of Set 8 | baia mare\n",
      "Processing Record 10 of Set 8 | bairiki\n",
      "Processing Record 11 of Set 8 | sapernoye\n",
      "Processing Record 12 of Set 8 | male\n",
      "Processing Record 13 of Set 8 | bambanglipuro\n",
      "Processing Record 14 of Set 8 | karratha\n",
      "Processing Record 15 of Set 8 | oyama\n",
      "Processing Record 16 of Set 8 | indramayu\n",
      "Processing Record 17 of Set 8 | murdochville\n",
      "Processing Record 18 of Set 8 | smithers\n",
      "Processing Record 19 of Set 8 | maningrida\n",
      "Processing Record 20 of Set 8 | llanes\n",
      "Processing Record 21 of Set 8 | shakawe\n",
      "Processing Record 22 of Set 8 | frutal\n",
      "Processing Record 23 of Set 8 | kita\n"
     ]
    },
    {
     "name": "stdout",
     "output_type": "stream",
     "text": [
      "Processing Record 24 of Set 8 | karaton\n",
      "Processing Record 25 of Set 8 | bowling green\n",
      "Processing Record 26 of Set 8 | vaitupu\n",
      "City not found. Skipping...\n",
      "Processing Record 27 of Set 8 | norman wells\n",
      "Processing Record 28 of Set 8 | marabba\n",
      "Processing Record 29 of Set 8 | illapel\n",
      "Processing Record 30 of Set 8 | warrington\n",
      "Processing Record 31 of Set 8 | chimbote\n",
      "Processing Record 32 of Set 8 | kangaatsiaq\n",
      "Processing Record 33 of Set 8 | araouane\n",
      "Processing Record 34 of Set 8 | contepec\n",
      "Processing Record 35 of Set 8 | bokoro\n",
      "Processing Record 36 of Set 8 | shubarshi\n",
      "Processing Record 37 of Set 8 | jibuti\n",
      "Processing Record 38 of Set 8 | skibbereen\n",
      "Processing Record 39 of Set 8 | montepuez\n",
      "Processing Record 40 of Set 8 | vanimo\n",
      "Processing Record 41 of Set 8 | mahadday weyne\n",
      "City not found. Skipping...\n",
      "Processing Record 42 of Set 8 | madras\n",
      "Processing Record 43 of Set 8 | severo-kurilsk\n",
      "Processing Record 44 of Set 8 | bambous virieux\n",
      "Processing Record 45 of Set 8 | inhambane\n",
      "Processing Record 46 of Set 8 | mackay\n",
      "Processing Record 47 of Set 8 | huadian\n",
      "Processing Record 48 of Set 8 | tadine\n",
      "Processing Record 49 of Set 8 | palabuhanratu\n",
      "City not found. Skipping...\n",
      "Processing Record 0 of Set 9 | partizanskoye\n",
      "Processing Record 1 of Set 9 | puerto baquerizo moreno\n",
      "Processing Record 2 of Set 9 | mrirt\n",
      "City not found. Skipping...\n",
      "Processing Record 3 of Set 9 | visnes\n",
      "Processing Record 4 of Set 9 | aykhal\n",
      "Processing Record 5 of Set 9 | jos\n",
      "Processing Record 6 of Set 9 | kukes\n",
      "Processing Record 7 of Set 9 | abu kamal\n",
      "Processing Record 8 of Set 9 | te anau\n",
      "Processing Record 9 of Set 9 | uribia\n",
      "Processing Record 10 of Set 9 | green valley\n",
      "Processing Record 11 of Set 9 | winchester\n",
      "Processing Record 12 of Set 9 | sumbawa\n",
      "City not found. Skipping...\n",
      "Processing Record 13 of Set 9 | varna\n",
      "Processing Record 14 of Set 9 | lardos\n",
      "Processing Record 15 of Set 9 | namatanai\n",
      "Processing Record 16 of Set 9 | chara\n",
      "Processing Record 17 of Set 9 | port blair\n",
      "Processing Record 18 of Set 9 | pacifica\n",
      "Processing Record 19 of Set 9 | carballo\n",
      "Processing Record 20 of Set 9 | ngorongoro\n",
      "Processing Record 21 of Set 9 | metehara\n",
      "City not found. Skipping...\n",
      "Processing Record 22 of Set 9 | malanje\n",
      "Processing Record 23 of Set 9 | kuruman\n",
      "Processing Record 24 of Set 9 | pemangkat\n",
      "Processing Record 25 of Set 9 | lubango\n",
      "Processing Record 26 of Set 9 | vanavara\n",
      "Processing Record 27 of Set 9 | tashtyp\n",
      "Processing Record 28 of Set 9 | roma\n",
      "Processing Record 29 of Set 9 | semnan\n",
      "Processing Record 30 of Set 9 | gukovo\n",
      "Processing Record 31 of Set 9 | pavlovskiy\n",
      "Processing Record 32 of Set 9 | port augusta\n",
      "Processing Record 33 of Set 9 | kantunilkin\n",
      "Processing Record 34 of Set 9 | luanda\n",
      "Processing Record 35 of Set 9 | barcelona\n",
      "Processing Record 36 of Set 9 | gararu\n",
      "Processing Record 37 of Set 9 | vila\n",
      "Processing Record 38 of Set 9 | brae\n",
      "Processing Record 39 of Set 9 | lata\n",
      "Processing Record 40 of Set 9 | kemi\n",
      "Processing Record 41 of Set 9 | santa isabel\n",
      "Processing Record 42 of Set 9 | kautokeino\n",
      "Processing Record 43 of Set 9 | kiruna\n",
      "Processing Record 44 of Set 9 | kristiinankaupunki\n",
      "Processing Record 45 of Set 9 | grindavik\n",
      "Processing Record 46 of Set 9 | staraya mayna\n",
      "Processing Record 47 of Set 9 | sompeta\n",
      "Processing Record 48 of Set 9 | marienburg\n",
      "Processing Record 49 of Set 9 | dalfsen\n",
      "Processing Record 0 of Set 10 | catuday\n",
      "Processing Record 1 of Set 10 | martapura\n",
      "Processing Record 2 of Set 10 | bazarnyy syzgan\n",
      "Processing Record 3 of Set 10 | raga\n",
      "Processing Record 4 of Set 10 | acapulco\n",
      "Processing Record 5 of Set 10 | halalo\n",
      "City not found. Skipping...\n",
      "Processing Record 6 of Set 10 | aasiaat\n",
      "Processing Record 7 of Set 10 | boromo\n",
      "Processing Record 8 of Set 10 | hay river\n",
      "Processing Record 9 of Set 10 | fairbanks\n",
      "Processing Record 10 of Set 10 | hemnesberget\n",
      "Processing Record 11 of Set 10 | afgoye\n",
      "City not found. Skipping...\n",
      "Processing Record 12 of Set 10 | marcona\n",
      "City not found. Skipping...\n",
      "Processing Record 13 of Set 10 | samarkand\n",
      "Processing Record 14 of Set 10 | salinas\n",
      "Processing Record 15 of Set 10 | nuuk\n",
      "Processing Record 16 of Set 10 | pacific grove\n",
      "Processing Record 17 of Set 10 | ruwi\n",
      "Processing Record 18 of Set 10 | raudeberg\n",
      "Processing Record 19 of Set 10 | sherbakul\n",
      "Processing Record 20 of Set 10 | saint-georges\n",
      "Processing Record 21 of Set 10 | ambulu\n",
      "Processing Record 22 of Set 10 | nantucket\n",
      "Processing Record 23 of Set 10 | bangassou\n",
      "Processing Record 24 of Set 10 | isangel\n",
      "Processing Record 25 of Set 10 | baruun-urt\n",
      "Processing Record 26 of Set 10 | tanout\n",
      "Processing Record 27 of Set 10 | margate\n",
      "Processing Record 28 of Set 10 | ekpoma\n",
      "Processing Record 29 of Set 10 | monki\n",
      "Processing Record 30 of Set 10 | belgrade\n",
      "Processing Record 31 of Set 10 | hagere selam\n",
      "Processing Record 32 of Set 10 | sendai\n",
      "Processing Record 33 of Set 10 | canico\n",
      "Processing Record 34 of Set 10 | lyambir\n",
      "Processing Record 35 of Set 10 | rudnichnyy\n",
      "Processing Record 36 of Set 10 | shinpokh\n",
      "Processing Record 37 of Set 10 | bud\n",
      "Processing Record 38 of Set 10 | hofn\n",
      "Processing Record 39 of Set 10 | sinnamary\n",
      "Processing Record 40 of Set 10 | katsuura\n",
      "Processing Record 41 of Set 10 | itarema\n",
      "Processing Record 42 of Set 10 | nur\n",
      "Processing Record 43 of Set 10 | dickinson\n",
      "Processing Record 44 of Set 10 | anloga\n",
      "Processing Record 45 of Set 10 | kavaratti\n",
      "Processing Record 46 of Set 10 | verkhnyaya inta\n",
      "Processing Record 47 of Set 10 | yushan\n",
      "Processing Record 48 of Set 10 | codrington\n",
      "Processing Record 49 of Set 10 | camacha\n",
      "Processing Record 0 of Set 11 | lagoa\n",
      "Processing Record 1 of Set 11 | riyadh\n",
      "Processing Record 2 of Set 11 | rio gallegos\n",
      "Processing Record 3 of Set 11 | san vicente\n",
      "Processing Record 4 of Set 11 | dargaville\n",
      "Processing Record 5 of Set 11 | ojinaga\n",
      "Processing Record 6 of Set 11 | aquin\n",
      "Processing Record 7 of Set 11 | nouadhibou\n",
      "Processing Record 8 of Set 11 | lima duarte\n",
      "Processing Record 9 of Set 11 | talara\n",
      "Processing Record 10 of Set 11 | lake havasu city\n",
      "Processing Record 11 of Set 11 | korla\n",
      "Processing Record 12 of Set 11 | fort nelson\n",
      "Processing Record 13 of Set 11 | darlawn\n",
      "Processing Record 14 of Set 11 | kikwit\n",
      "Processing Record 15 of Set 11 | sanjwal\n",
      "Processing Record 16 of Set 11 | gweta\n",
      "Processing Record 17 of Set 11 | grand gaube\n",
      "Processing Record 18 of Set 11 | tahe\n",
      "Processing Record 19 of Set 11 | rio grande\n",
      "Processing Record 20 of Set 11 | cabo san lucas\n",
      "Processing Record 21 of Set 11 | opuwo\n",
      "Processing Record 22 of Set 11 | shache\n",
      "Processing Record 23 of Set 11 | derzhavinsk\n",
      "Processing Record 24 of Set 11 | buala\n",
      "Processing Record 25 of Set 11 | storm lake\n",
      "Processing Record 26 of Set 11 | padang\n",
      "Processing Record 27 of Set 11 | mpika\n",
      "Processing Record 28 of Set 11 | kyren\n",
      "Processing Record 29 of Set 11 | camana\n",
      "Processing Record 30 of Set 11 | aitape\n",
      "Processing Record 31 of Set 11 | port keats\n",
      "Processing Record 32 of Set 11 | half moon bay\n",
      "Processing Record 33 of Set 11 | tisul\n",
      "Processing Record 34 of Set 11 | artyk\n",
      "City not found. Skipping...\n",
      "Processing Record 35 of Set 11 | vostok\n",
      "Processing Record 36 of Set 11 | college\n",
      "Processing Record 37 of Set 11 | carutapera\n",
      "Processing Record 38 of Set 11 | katangli\n",
      "Processing Record 39 of Set 11 | torbay\n",
      "Processing Record 40 of Set 11 | pisco\n",
      "Processing Record 41 of Set 11 | panjab\n",
      "Processing Record 42 of Set 11 | safaga\n",
      "Processing Record 43 of Set 11 | eirunepe\n",
      "Processing Record 44 of Set 11 | palana\n",
      "Processing Record 45 of Set 11 | praia\n",
      "Processing Record 46 of Set 11 | ambon\n",
      "Processing Record 47 of Set 11 | golfito\n",
      "Processing Record 48 of Set 11 | preobrazheniye\n",
      "Processing Record 49 of Set 11 | gamba\n",
      "Processing Record 0 of Set 12 | pousat\n",
      "City not found. Skipping...\n",
      "Processing Record 1 of Set 12 | ahipara\n",
      "Processing Record 2 of Set 12 | berlevag\n",
      "Processing Record 3 of Set 12 | lluta\n",
      "Processing Record 4 of Set 12 | ust-maya\n",
      "Processing Record 5 of Set 12 | weligama\n",
      "Processing Record 6 of Set 12 | meadow lake\n",
      "Processing Record 7 of Set 12 | nioro\n",
      "Processing Record 8 of Set 12 | kargopol\n",
      "Processing Record 9 of Set 12 | broadford\n",
      "Processing Record 10 of Set 12 | douglas\n",
      "Processing Record 11 of Set 12 | caraquet\n",
      "Processing Record 12 of Set 12 | lasa\n",
      "Processing Record 13 of Set 12 | izumo\n",
      "Processing Record 14 of Set 12 | bathsheba\n"
     ]
    },
    {
     "name": "stdout",
     "output_type": "stream",
     "text": [
      "Processing Record 15 of Set 12 | phetchaburi\n",
      "Processing Record 16 of Set 12 | pak phanang\n",
      "Processing Record 17 of Set 12 | doha\n",
      "Processing Record 18 of Set 12 | nara\n",
      "Processing Record 19 of Set 12 | saint-augustin\n",
      "Processing Record 20 of Set 12 | tombouctou\n",
      "Processing Record 21 of Set 12 | pionerskiy\n",
      "Processing Record 22 of Set 12 | turukhansk\n",
      "Processing Record 23 of Set 12 | rundu\n",
      "Processing Record 24 of Set 12 | san cristobal\n",
      "Processing Record 25 of Set 12 | karapyshi\n",
      "Processing Record 26 of Set 12 | san lawrenz\n",
      "Processing Record 27 of Set 12 | sayhat\n",
      "Processing Record 28 of Set 12 | thuin\n",
      "Processing Record 29 of Set 12 | saint-nazaire\n",
      "Processing Record 30 of Set 12 | severnyy\n",
      "Processing Record 31 of Set 12 | huarmey\n",
      "Processing Record 32 of Set 12 | asyut\n",
      "Processing Record 33 of Set 12 | findlay\n",
      "Processing Record 34 of Set 12 | maniitsoq\n",
      "Processing Record 35 of Set 12 | itoman\n",
      "Processing Record 36 of Set 12 | saint george\n",
      "Processing Record 37 of Set 12 | galveston\n",
      "Processing Record 38 of Set 12 | port-gentil\n",
      "Processing Record 39 of Set 12 | kropotkin\n",
      "Processing Record 40 of Set 12 | alice springs\n",
      "Processing Record 41 of Set 12 | bauchi\n",
      "Processing Record 42 of Set 12 | tabiauea\n",
      "City not found. Skipping...\n",
      "Processing Record 43 of Set 12 | lockhart\n",
      "Processing Record 44 of Set 12 | cidreira\n",
      "Processing Record 45 of Set 12 | umzimvubu\n",
      "City not found. Skipping...\n",
      "Processing Record 46 of Set 12 | livingston\n",
      "Processing Record 47 of Set 12 | nizhnevartovsk\n",
      "Processing Record 48 of Set 12 | duluth\n",
      "Processing Record 49 of Set 12 | fortuna\n",
      "Processing Record 0 of Set 13 | gravelbourg\n",
      "Processing Record 1 of Set 13 | verkhnyaya toyma\n",
      "Processing Record 2 of Set 13 | louis trichardt\n",
      "Processing Record 3 of Set 13 | punto fijo\n",
      "Processing Record 4 of Set 13 | nouakchott\n",
      "Processing Record 5 of Set 13 | aberdeen\n",
      "Processing Record 6 of Set 13 | falaleu\n",
      "City not found. Skipping...\n",
      "Processing Record 7 of Set 13 | alihe\n",
      "Processing Record 8 of Set 13 | orlik\n",
      "Processing Record 9 of Set 13 | urdzhar\n",
      "City not found. Skipping...\n",
      "Processing Record 10 of Set 13 | dingle\n",
      "Processing Record 11 of Set 13 | kaeo\n",
      "Processing Record 12 of Set 13 | nizwa\n",
      "-----------------------------\n",
      "Data Retrieval Complete      \n",
      "-----------------------------\n"
     ]
    }
   ],
   "source": [
    "# Set the API base URL\n",
    "url = \"http://api.openweathermap.org/data/2.5/weather?units=Metric&APPID=\" + weather_api_key\n",
    "\n",
    "# Define an empty list to fetch the weather data for each city\n",
    "city_data = []\n",
    "\n",
    "# Print to logger\n",
    "print(\"Beginning Data Retrieval     \")\n",
    "print(\"-----------------------------\")\n",
    "\n",
    "# Create counters\n",
    "record_count = 1\n",
    "set_count = 1\n",
    "\n",
    "# Loop through all the cities in our list to fetch weather data\n",
    "for i, city in enumerate(cities):\n",
    "        \n",
    "    # Group cities in sets of 50 for logging purposes\n",
    "    if (i % 50 == 0 and i >= 50):\n",
    "        set_count += 1\n",
    "        record_count = 0\n",
    "\n",
    "    # Create endpoint URL with each city\n",
    "    city_url = url + \"&q=\"\n",
    "    \n",
    "    # Log the url, record, and set numbers\n",
    "    print(\"Processing Record %s of Set %s | %s\" % (record_count, set_count, city))\n",
    "\n",
    "    # Add 1 to the record count\n",
    "    record_count += 1\n",
    "\n",
    "    # Run an API request for each of the cities\n",
    "    try:\n",
    "        # Parse the JSON and retrieve data\n",
    "        city_weather = requests.get(city_url+city).json()\n",
    "        # Parse out latitude, longitude, max temp, humidity, cloudiness, wind speed, country, and date\n",
    "        city_lat = city_weather['coord']['lat']\n",
    "        city_lon = city_weather['coord']['lon']\n",
    "        city_max_temp = city_weather['main']['temp_max']\n",
    "        city_humidity = city_weather['main']['humidity']\n",
    "        city_clouds = city_weather['clouds']['all']\n",
    "        city_wind = city_weather['wind']['speed']\n",
    "        city_country = city_weather['sys']['country']\n",
    "        city_date = city_weather['dt']\n",
    "        # Append the City information into city_data list\n",
    "        city_data.append({\"City\": city, \n",
    "                          \"Lat\": city_lat, \n",
    "                          \"Lng\": city_lon, \n",
    "                          \"Max Temp\": city_max_temp,\n",
    "                          \"Humidity\": city_humidity,\n",
    "                          \"Cloudiness\": city_clouds,\n",
    "                          \"Wind Speed\": city_wind,\n",
    "                          \"Country\": city_country,\n",
    "                          \"Date\": city_date})\n",
    "\n",
    "    # If an error is experienced, skip the city\n",
    "    except:\n",
    "        print(\"City not found. Skipping...\")\n",
    "        pass\n",
    "              \n",
    "# Indicate that Data Loading is complete \n",
    "print(\"-----------------------------\")\n",
    "print(\"Data Retrieval Complete      \")\n",
    "print(\"-----------------------------\")"
   ]
  },
  {
   "cell_type": "code",
   "execution_count": 4,
   "metadata": {},
   "outputs": [
    {
     "data": {
      "text/plain": [
       "City          566\n",
       "Lat           566\n",
       "Lng           566\n",
       "Max Temp      566\n",
       "Humidity      566\n",
       "Cloudiness    566\n",
       "Wind Speed    566\n",
       "Country       566\n",
       "Date          566\n",
       "dtype: int64"
      ]
     },
     "execution_count": 4,
     "metadata": {},
     "output_type": "execute_result"
    }
   ],
   "source": [
    "# Convert the cities weather data into a Pandas DataFrame\n",
    "city_data_df = pd.DataFrame(city_data)\n",
    "\n",
    "# Show Record Count\n",
    "city_data_df.count()"
   ]
  },
  {
   "cell_type": "code",
   "execution_count": 5,
   "metadata": {},
   "outputs": [
    {
     "data": {
      "text/html": [
       "<div>\n",
       "<style scoped>\n",
       "    .dataframe tbody tr th:only-of-type {\n",
       "        vertical-align: middle;\n",
       "    }\n",
       "\n",
       "    .dataframe tbody tr th {\n",
       "        vertical-align: top;\n",
       "    }\n",
       "\n",
       "    .dataframe thead th {\n",
       "        text-align: right;\n",
       "    }\n",
       "</style>\n",
       "<table border=\"1\" class=\"dataframe\">\n",
       "  <thead>\n",
       "    <tr style=\"text-align: right;\">\n",
       "      <th></th>\n",
       "      <th>City</th>\n",
       "      <th>Lat</th>\n",
       "      <th>Lng</th>\n",
       "      <th>Max Temp</th>\n",
       "      <th>Humidity</th>\n",
       "      <th>Cloudiness</th>\n",
       "      <th>Wind Speed</th>\n",
       "      <th>Country</th>\n",
       "      <th>Date</th>\n",
       "    </tr>\n",
       "  </thead>\n",
       "  <tbody>\n",
       "    <tr>\n",
       "      <th>0</th>\n",
       "      <td>lorengau</td>\n",
       "      <td>-2.0226</td>\n",
       "      <td>147.2712</td>\n",
       "      <td>27.85</td>\n",
       "      <td>80</td>\n",
       "      <td>99</td>\n",
       "      <td>4.32</td>\n",
       "      <td>PG</td>\n",
       "      <td>1670122942</td>\n",
       "    </tr>\n",
       "    <tr>\n",
       "      <th>1</th>\n",
       "      <td>salacgriva</td>\n",
       "      <td>57.7536</td>\n",
       "      <td>24.3581</td>\n",
       "      <td>-3.12</td>\n",
       "      <td>94</td>\n",
       "      <td>100</td>\n",
       "      <td>3.14</td>\n",
       "      <td>LV</td>\n",
       "      <td>1670122942</td>\n",
       "    </tr>\n",
       "    <tr>\n",
       "      <th>2</th>\n",
       "      <td>avarua</td>\n",
       "      <td>-21.2078</td>\n",
       "      <td>-159.7750</td>\n",
       "      <td>28.03</td>\n",
       "      <td>83</td>\n",
       "      <td>100</td>\n",
       "      <td>3.60</td>\n",
       "      <td>CK</td>\n",
       "      <td>1670122943</td>\n",
       "    </tr>\n",
       "    <tr>\n",
       "      <th>3</th>\n",
       "      <td>okahandja</td>\n",
       "      <td>-21.9833</td>\n",
       "      <td>16.9167</td>\n",
       "      <td>22.13</td>\n",
       "      <td>22</td>\n",
       "      <td>75</td>\n",
       "      <td>1.32</td>\n",
       "      <td>NA</td>\n",
       "      <td>1670122943</td>\n",
       "    </tr>\n",
       "    <tr>\n",
       "      <th>4</th>\n",
       "      <td>cape town</td>\n",
       "      <td>-33.9258</td>\n",
       "      <td>18.4232</td>\n",
       "      <td>16.60</td>\n",
       "      <td>72</td>\n",
       "      <td>1</td>\n",
       "      <td>3.58</td>\n",
       "      <td>ZA</td>\n",
       "      <td>1670122943</td>\n",
       "    </tr>\n",
       "  </tbody>\n",
       "</table>\n",
       "</div>"
      ],
      "text/plain": [
       "         City      Lat       Lng  Max Temp  Humidity  Cloudiness  Wind Speed  \\\n",
       "0    lorengau  -2.0226  147.2712     27.85        80          99        4.32   \n",
       "1  salacgriva  57.7536   24.3581     -3.12        94         100        3.14   \n",
       "2      avarua -21.2078 -159.7750     28.03        83         100        3.60   \n",
       "3   okahandja -21.9833   16.9167     22.13        22          75        1.32   \n",
       "4   cape town -33.9258   18.4232     16.60        72           1        3.58   \n",
       "\n",
       "  Country        Date  \n",
       "0      PG  1670122942  \n",
       "1      LV  1670122942  \n",
       "2      CK  1670122943  \n",
       "3      NA  1670122943  \n",
       "4      ZA  1670122943  "
      ]
     },
     "execution_count": 5,
     "metadata": {},
     "output_type": "execute_result"
    }
   ],
   "source": [
    "# Display sample data\n",
    "city_data_df.head()"
   ]
  },
  {
   "cell_type": "code",
   "execution_count": 6,
   "metadata": {},
   "outputs": [],
   "source": [
    "# Export the City_Data into a csv\n",
    "city_data_df.to_csv(\"output_data/cities.csv\", index_label=\"City_ID\")"
   ]
  },
  {
   "cell_type": "code",
   "execution_count": 7,
   "metadata": {},
   "outputs": [
    {
     "data": {
      "text/plain": [
       "<bound method NDFrame.sample of                City      Lat       Lng  Max Temp  Humidity  Cloudiness  \\\n",
       "City_ID                                                                  \n",
       "0          lorengau  -2.0226  147.2712     27.85        80          99   \n",
       "1        salacgriva  57.7536   24.3581     -3.12        94         100   \n",
       "2            avarua -21.2078 -159.7750     28.03        83         100   \n",
       "3         okahandja -21.9833   16.9167     22.13        22          75   \n",
       "4         cape town -33.9258   18.4232     16.60        72           1   \n",
       "...             ...      ...       ...       ...       ...         ...   \n",
       "561           alihe  50.5667  123.7167    -19.85        69          13   \n",
       "562           orlik  52.5178   99.8250    -24.49        87          75   \n",
       "563          dingle  10.9995  122.6711     29.43        72          65   \n",
       "564            kaeo -35.1000  173.7833     21.05        56           8   \n",
       "565           nizwa  22.9333   57.5333     17.65        67           0   \n",
       "\n",
       "         Wind Speed Country        Date  \n",
       "City_ID                                  \n",
       "0              4.32      PG  1670122942  \n",
       "1              3.14      LV  1670122942  \n",
       "2              3.60      CK  1670122943  \n",
       "3              1.32     NaN  1670122943  \n",
       "4              3.58      ZA  1670122943  \n",
       "...             ...     ...         ...  \n",
       "561            1.57      CN  1670123069  \n",
       "562            1.09      RU  1670123069  \n",
       "563            4.63      PH  1670123070  \n",
       "564            3.65      NZ  1670123070  \n",
       "565            0.79      OM  1670123070  \n",
       "\n",
       "[566 rows x 9 columns]>"
      ]
     },
     "execution_count": 7,
     "metadata": {},
     "output_type": "execute_result"
    }
   ],
   "source": [
    "# Read saved data\n",
    "city_data_df = pd.read_csv(\"output_data/cities.csv\", index_col=\"City_ID\")\n",
    "\n",
    "# Display sample data\n",
    "city_data_df.sample"
   ]
  },
  {
   "cell_type": "markdown",
   "metadata": {},
   "source": [
    "### Create the Scatter Plots Requested\n",
    "\n",
    "#### Latitude Vs. Temperature"
   ]
  },
  {
   "cell_type": "code",
   "execution_count": 10,
   "metadata": {
    "tags": []
   },
   "outputs": [
    {
     "data": {
      "image/png": "[encoded data removed]",
      "text/plain": [
       "<Figure size 432x288 with 1 Axes>"
      ]
     },
     "metadata": {
      "needs_background": "light"
     },
     "output_type": "display_data"
    }
   ],
   "source": [
    "# Build scatter plot for latitude vs. temperature\n",
    "xl = city_data_df['Lat']\n",
    "yt = city_data_df['Max Temp']\n",
    "plt.scatter(xl, yt, edgecolors='black')\n",
    "\n",
    "# Incorporate the other graph properties\n",
    "plt.title(\"City Latitude Vs. Temperature (12/3/22)\")\n",
    "plt.xlabel(\"Latitude\")\n",
    "plt.ylabel(\"Max Temperature (F)\")\n",
    "plt.grid()\n",
    "# Save the figure\n",
    "plt.savefig(\"output_data/Fig1.png\")\n",
    "\n",
    "# Show plot\n",
    "plt.show()"
   ]
  },
  {
   "cell_type": "markdown",
   "metadata": {},
   "source": [
    "#### Latitude Vs. Humidity"
   ]
  },
  {
   "cell_type": "code",
   "execution_count": 11,
   "metadata": {},
   "outputs": [
    {
     "data": {
      "image/png": "[encoded data removed]",
      "text/plain": [
       "<Figure size 432x288 with 1 Axes>"
      ]
     },
     "metadata": {
      "needs_background": "light"
     },
     "output_type": "display_data"
    }
   ],
   "source": [
    "# Build the scatter plots for latitude vs. humidity\n",
    "yh = city_data_df['Humidity']\n",
    "plt.scatter(xl, yh, edgecolors='black')\n",
    "\n",
    "# Incorporate the other graph properties\n",
    "plt.title(\"City Latitude Vs. Humidity (12/3/22)\")\n",
    "plt.xlabel(\"Latitude\")\n",
    "plt.ylabel(\"Humidity (%)\")\n",
    "plt.grid()\n",
    "\n",
    "# Save the figure\n",
    "plt.savefig(\"output_data/Fig2.png\")\n",
    "\n",
    "# Show plot\n",
    "plt.show()"
   ]
  },
  {
   "cell_type": "markdown",
   "metadata": {},
   "source": [
    "#### Latitude Vs. Cloudiness"
   ]
  },
  {
   "cell_type": "code",
   "execution_count": 12,
   "metadata": {},
   "outputs": [
    {
     "data": {
      "image/png": "[encoded data removed]",
      "text/plain": [
       "<Figure size 432x288 with 1 Axes>"
      ]
     },
     "metadata": {
      "needs_background": "light"
     },
     "output_type": "display_data"
    }
   ],
   "source": [
    "# Build the scatter plots for latitude vs. cloudiness\n",
    "yc = city_data_df['Cloudiness']\n",
    "plt.scatter(xl, yc, edgecolors='black')\n",
    "\n",
    "# Incorporate the other graph properties\n",
    "plt.title(\"City Latitude Vs. Cloudiness (12/3/22)\")\n",
    "plt.xlabel(\"Latitude\")\n",
    "plt.ylabel(\"Cloudiness (%)\")\n",
    "plt.grid()\n",
    "\n",
    "# Save the figure\n",
    "plt.savefig(\"output_data/Fig3.png\")\n",
    "\n",
    "# Show plot\n",
    "plt.show()"
   ]
  },
  {
   "cell_type": "markdown",
   "metadata": {},
   "source": [
    "#### Latitude vs. Wind Speed Plot"
   ]
  },
  {
   "cell_type": "code",
   "execution_count": 13,
   "metadata": {},
   "outputs": [
    {
     "data": {
      "image/png": "[encoded data removed]",
      "text/plain": [
       "<Figure size 432x288 with 1 Axes>"
      ]
     },
     "metadata": {
      "needs_background": "light"
     },
     "output_type": "display_data"
    }
   ],
   "source": [
    "# Build the scatter plots for latitude vs. wind speed\n",
    "yw = city_data_df['Wind Speed']\n",
    "plt.scatter(xl, yh, edgecolors='black')\n",
    "\n",
    "# Incorporate the other graph properties\n",
    "plt.title(\"City Latitude Vs. Wind Speed (12/3/22)\")\n",
    "plt.xlabel(\"Latitude\")\n",
    "plt.ylabel(\"Wind Speed (m/s)\")\n",
    "plt.grid()\n",
    "\n",
    "# Save the figure\n",
    "plt.savefig(\"output_data/Fig4.png\")\n",
    "\n",
    "# Show plot\n",
    "plt.show()"
   ]
  },
  {
   "cell_type": "markdown",
   "metadata": {},
   "source": [
    "---\n",
    "\n",
    "## Requirement 2: Compute Linear Regression for Each Relationship\n"
   ]
  },
  {
   "cell_type": "code",
   "execution_count": 14,
   "metadata": {},
   "outputs": [],
   "source": [
    "# Define a function to create Linear Regression plots\n",
    "def LR(x, y, xl, yl):\n",
    "    (slope, intercept, rvalue, pvalue, stderr) = linregress(x, y)\n",
    "    regress_values = x * slope + intercept\n",
    "    line_eq = \"y = \" + str(round(slope,2)) + \"x + \" + str(round(intercept,2))\n",
    "    \n",
    "    plt.scatter(x, y)\n",
    "    plt.xlabel(xl)\n",
    "    plt.ylabel(yl)    \n",
    "    print(f\"The r-squared is: {rvalue**2}\")\n",
    "    print(line_eq)\n",
    "    plt.plot(x, regress_values, \"r-\")\n",
    "    #plt.annotate(line_eq, xy=(25, 30), fontsize=14, color=\"red\")\n",
    "    plt.show()\n"
   ]
  },
  {
   "cell_type": "code",
   "execution_count": 15,
   "metadata": {},
   "outputs": [
    {
     "data": {
      "text/html": [
       "<div>\n",
       "<style scoped>\n",
       "    .dataframe tbody tr th:only-of-type {\n",
       "        vertical-align: middle;\n",
       "    }\n",
       "\n",
       "    .dataframe tbody tr th {\n",
       "        vertical-align: top;\n",
       "    }\n",
       "\n",
       "    .dataframe thead th {\n",
       "        text-align: right;\n",
       "    }\n",
       "</style>\n",
       "<table border=\"1\" class=\"dataframe\">\n",
       "  <thead>\n",
       "    <tr style=\"text-align: right;\">\n",
       "      <th></th>\n",
       "      <th>City</th>\n",
       "      <th>Lat</th>\n",
       "      <th>Lng</th>\n",
       "      <th>Max Temp</th>\n",
       "      <th>Humidity</th>\n",
       "      <th>Cloudiness</th>\n",
       "      <th>Wind Speed</th>\n",
       "      <th>Country</th>\n",
       "      <th>Date</th>\n",
       "    </tr>\n",
       "    <tr>\n",
       "      <th>City_ID</th>\n",
       "      <th></th>\n",
       "      <th></th>\n",
       "      <th></th>\n",
       "      <th></th>\n",
       "      <th></th>\n",
       "      <th></th>\n",
       "      <th></th>\n",
       "      <th></th>\n",
       "      <th></th>\n",
       "    </tr>\n",
       "  </thead>\n",
       "  <tbody>\n",
       "    <tr>\n",
       "      <th>1</th>\n",
       "      <td>salacgriva</td>\n",
       "      <td>57.7536</td>\n",
       "      <td>24.3581</td>\n",
       "      <td>-3.12</td>\n",
       "      <td>94</td>\n",
       "      <td>100</td>\n",
       "      <td>3.14</td>\n",
       "      <td>LV</td>\n",
       "      <td>1670122942</td>\n",
       "    </tr>\n",
       "    <tr>\n",
       "      <th>8</th>\n",
       "      <td>chokurdakh</td>\n",
       "      <td>70.6333</td>\n",
       "      <td>147.9167</td>\n",
       "      <td>-30.72</td>\n",
       "      <td>99</td>\n",
       "      <td>59</td>\n",
       "      <td>4.67</td>\n",
       "      <td>RU</td>\n",
       "      <td>1670122944</td>\n",
       "    </tr>\n",
       "    <tr>\n",
       "      <th>9</th>\n",
       "      <td>ajdabiya</td>\n",
       "      <td>30.7554</td>\n",
       "      <td>20.2263</td>\n",
       "      <td>14.28</td>\n",
       "      <td>48</td>\n",
       "      <td>0</td>\n",
       "      <td>5.41</td>\n",
       "      <td>LY</td>\n",
       "      <td>1670122944</td>\n",
       "    </tr>\n",
       "    <tr>\n",
       "      <th>10</th>\n",
       "      <td>north bend</td>\n",
       "      <td>43.4065</td>\n",
       "      <td>-124.2243</td>\n",
       "      <td>7.82</td>\n",
       "      <td>98</td>\n",
       "      <td>100</td>\n",
       "      <td>2.18</td>\n",
       "      <td>US</td>\n",
       "      <td>1670122945</td>\n",
       "    </tr>\n",
       "    <tr>\n",
       "      <th>12</th>\n",
       "      <td>sitka</td>\n",
       "      <td>57.0531</td>\n",
       "      <td>-135.3300</td>\n",
       "      <td>0.15</td>\n",
       "      <td>67</td>\n",
       "      <td>7</td>\n",
       "      <td>0.75</td>\n",
       "      <td>US</td>\n",
       "      <td>1670122945</td>\n",
       "    </tr>\n",
       "  </tbody>\n",
       "</table>\n",
       "</div>"
      ],
      "text/plain": [
       "               City      Lat       Lng  Max Temp  Humidity  Cloudiness  \\\n",
       "City_ID                                                                  \n",
       "1        salacgriva  57.7536   24.3581     -3.12        94         100   \n",
       "8        chokurdakh  70.6333  147.9167    -30.72        99          59   \n",
       "9          ajdabiya  30.7554   20.2263     14.28        48           0   \n",
       "10       north bend  43.4065 -124.2243      7.82        98         100   \n",
       "12            sitka  57.0531 -135.3300      0.15        67           7   \n",
       "\n",
       "         Wind Speed Country        Date  \n",
       "City_ID                                  \n",
       "1              3.14      LV  1670122942  \n",
       "8              4.67      RU  1670122944  \n",
       "9              5.41      LY  1670122944  \n",
       "10             2.18      US  1670122945  \n",
       "12             0.75      US  1670122945  "
      ]
     },
     "execution_count": 15,
     "metadata": {},
     "output_type": "execute_result"
    }
   ],
   "source": [
    "# Create a DataFrame with the Northern Hemisphere data (Latitude >= 0)\n",
    "northern_hemi_df = city_data_df.loc[city_data_df['Lat']>= 0]\n",
    "\n",
    "# Display sample data\n",
    "northern_hemi_df.head()"
   ]
  },
  {
   "cell_type": "code",
   "execution_count": 16,
   "metadata": {},
   "outputs": [
    {
     "data": {
      "text/html": [
       "<div>\n",
       "<style scoped>\n",
       "    .dataframe tbody tr th:only-of-type {\n",
       "        vertical-align: middle;\n",
       "    }\n",
       "\n",
       "    .dataframe tbody tr th {\n",
       "        vertical-align: top;\n",
       "    }\n",
       "\n",
       "    .dataframe thead th {\n",
       "        text-align: right;\n",
       "    }\n",
       "</style>\n",
       "<table border=\"1\" class=\"dataframe\">\n",
       "  <thead>\n",
       "    <tr style=\"text-align: right;\">\n",
       "      <th></th>\n",
       "      <th>City</th>\n",
       "      <th>Lat</th>\n",
       "      <th>Lng</th>\n",
       "      <th>Max Temp</th>\n",
       "      <th>Humidity</th>\n",
       "      <th>Cloudiness</th>\n",
       "      <th>Wind Speed</th>\n",
       "      <th>Country</th>\n",
       "      <th>Date</th>\n",
       "    </tr>\n",
       "    <tr>\n",
       "      <th>City_ID</th>\n",
       "      <th></th>\n",
       "      <th></th>\n",
       "      <th></th>\n",
       "      <th></th>\n",
       "      <th></th>\n",
       "      <th></th>\n",
       "      <th></th>\n",
       "      <th></th>\n",
       "      <th></th>\n",
       "    </tr>\n",
       "  </thead>\n",
       "  <tbody>\n",
       "    <tr>\n",
       "      <th>0</th>\n",
       "      <td>lorengau</td>\n",
       "      <td>-2.0226</td>\n",
       "      <td>147.2712</td>\n",
       "      <td>27.85</td>\n",
       "      <td>80</td>\n",
       "      <td>99</td>\n",
       "      <td>4.32</td>\n",
       "      <td>PG</td>\n",
       "      <td>1670122942</td>\n",
       "    </tr>\n",
       "    <tr>\n",
       "      <th>2</th>\n",
       "      <td>avarua</td>\n",
       "      <td>-21.2078</td>\n",
       "      <td>-159.7750</td>\n",
       "      <td>28.03</td>\n",
       "      <td>83</td>\n",
       "      <td>100</td>\n",
       "      <td>3.60</td>\n",
       "      <td>CK</td>\n",
       "      <td>1670122943</td>\n",
       "    </tr>\n",
       "    <tr>\n",
       "      <th>3</th>\n",
       "      <td>okahandja</td>\n",
       "      <td>-21.9833</td>\n",
       "      <td>16.9167</td>\n",
       "      <td>22.13</td>\n",
       "      <td>22</td>\n",
       "      <td>75</td>\n",
       "      <td>1.32</td>\n",
       "      <td>NaN</td>\n",
       "      <td>1670122943</td>\n",
       "    </tr>\n",
       "    <tr>\n",
       "      <th>4</th>\n",
       "      <td>cape town</td>\n",
       "      <td>-33.9258</td>\n",
       "      <td>18.4232</td>\n",
       "      <td>16.60</td>\n",
       "      <td>72</td>\n",
       "      <td>1</td>\n",
       "      <td>3.58</td>\n",
       "      <td>ZA</td>\n",
       "      <td>1670122943</td>\n",
       "    </tr>\n",
       "    <tr>\n",
       "      <th>5</th>\n",
       "      <td>rikitea</td>\n",
       "      <td>-23.1203</td>\n",
       "      <td>-134.9692</td>\n",
       "      <td>23.76</td>\n",
       "      <td>79</td>\n",
       "      <td>6</td>\n",
       "      <td>6.17</td>\n",
       "      <td>PF</td>\n",
       "      <td>1670122943</td>\n",
       "    </tr>\n",
       "  </tbody>\n",
       "</table>\n",
       "</div>"
      ],
      "text/plain": [
       "              City      Lat       Lng  Max Temp  Humidity  Cloudiness  \\\n",
       "City_ID                                                                 \n",
       "0         lorengau  -2.0226  147.2712     27.85        80          99   \n",
       "2           avarua -21.2078 -159.7750     28.03        83         100   \n",
       "3        okahandja -21.9833   16.9167     22.13        22          75   \n",
       "4        cape town -33.9258   18.4232     16.60        72           1   \n",
       "5          rikitea -23.1203 -134.9692     23.76        79           6   \n",
       "\n",
       "         Wind Speed Country        Date  \n",
       "City_ID                                  \n",
       "0              4.32      PG  1670122942  \n",
       "2              3.60      CK  1670122943  \n",
       "3              1.32     NaN  1670122943  \n",
       "4              3.58      ZA  1670122943  \n",
       "5              6.17      PF  1670122943  "
      ]
     },
     "execution_count": 16,
     "metadata": {},
     "output_type": "execute_result"
    }
   ],
   "source": [
    "# Create a DataFrame with the Southern Hemisphere data (Latitude < 0)\n",
    "southern_hemi_df = city_data_df.loc[city_data_df['Lat']<= 0]\n",
    "\n",
    "# Display sample data\n",
    "southern_hemi_df.head()"
   ]
  },
  {
   "cell_type": "markdown",
   "metadata": {},
   "source": [
    "###  Temperature vs. Latitude Linear Regression Plot"
   ]
  },
  {
   "cell_type": "code",
   "execution_count": 17,
   "metadata": {},
   "outputs": [
    {
     "name": "stdout",
     "output_type": "stream",
     "text": [
      "The r-squared is: 0.7152878703839307\n",
      "y = -0.67x + 31.65\n"
     ]
    },
    {
     "data": {
      "image/png": "[encoded data removed]",
      "text/plain": [
       "<Figure size 432x288 with 1 Axes>"
      ]
     },
     "metadata": {
      "needs_background": "light"
     },
     "output_type": "display_data"
    }
   ],
   "source": [
    "# Linear regression on Northern Hemisphere\n",
    "x = northern_hemi_df['Lat']\n",
    "y = northern_hemi_df['Max Temp']\n",
    "\n",
    "LR(x, y, xl=\"Latitude\", yl=\"Max Temp\")"
   ]
  },
  {
   "cell_type": "code",
   "execution_count": 18,
   "metadata": {},
   "outputs": [
    {
     "name": "stdout",
     "output_type": "stream",
     "text": [
      "The r-squared is: 0.2146129874648607\n",
      "y = 0.21x + 26.53\n"
     ]
    },
    {
     "data": {
      "image/png": "[encoded data removed]",
      "text/plain": [
       "<Figure size 432x288 with 1 Axes>"
      ]
     },
     "metadata": {
      "needs_background": "light"
     },
     "output_type": "display_data"
    }
   ],
   "source": [
    "# Linear regression on Southern Hemisphere\n",
    "x = southern_hemi_df['Lat']\n",
    "y = southern_hemi_df['Max Temp']\n",
    "\n",
    "LR(x, y, xl=\"Latitude\", yl=\"Max Temp\")"
   ]
  },
  {
   "cell_type": "markdown",
   "metadata": {},
   "source": [
    "**Discussion about the linear relationship:** \n",
    "    The Northern Hemisphere's temperature decreases as the latitude increases being a STRONG NEGATIVE relationship. The Southern Hemisphere's temperature increases as the latitude increases. The plots are more spaced but the line of best fit is rising as latitude increases, meaning the Southern HEmisphere is showing a WEAK POSITIVE relationship."
   ]
  },
  {
   "cell_type": "markdown",
   "metadata": {},
   "source": [
    "### Humidity vs. Latitude Linear Regression Plot"
   ]
  },
  {
   "cell_type": "code",
   "execution_count": 25,
   "metadata": {},
   "outputs": [
    {
     "name": "stdout",
     "output_type": "stream",
     "text": [
      "The r-squared is: 0.1189672332047112\n",
      "y = 0.34x + 63.33\n"
     ]
    },
    {
     "data": {
      "image/png": "[encoded data removed]",
      "text/plain": [
       "<Figure size 432x288 with 1 Axes>"
      ]
     },
     "metadata": {
      "needs_background": "light"
     },
     "output_type": "display_data"
    }
   ],
   "source": [
    "# Northern Hemisphere\n",
    "x = northern_hemi_df['Lat']\n",
    "y = northern_hemi_df['Humidity']\n",
    "\n",
    "LR(x, y, xl=\"Latitude\", yl=\"Humidity\")"
   ]
  },
  {
   "cell_type": "code",
   "execution_count": 26,
   "metadata": {},
   "outputs": [
    {
     "name": "stdout",
     "output_type": "stream",
     "text": [
      "The r-squared is: 0.0711333482375173\n",
      "y = 0.43x + 81.0\n"
     ]
    },
    {
     "data": {
      "image/png": "[encoded data removed]",
      "text/plain": [
       "<Figure size 432x288 with 1 Axes>"
      ]
     },
     "metadata": {
      "needs_background": "light"
     },
     "output_type": "display_data"
    }
   ],
   "source": [
    "# Southern Hemisphere\n",
    "x = southern_hemi_df['Lat']\n",
    "y = southern_hemi_df['Humidity']\n",
    "\n",
    "LR(x, y, xl=\"Latitude\", yl=\"Humidity\")"
   ]
  },
  {
   "cell_type": "markdown",
   "metadata": {},
   "source": [
    "**Discussion about the linear relationship:** \n",
    "    The Northern Hemisphere shows a STRONG POSITIVE with the plots being more compact together and the line of best fit increasing as latitude increases. The Southern Hemisphere also shows an increasing line of best fit while latitude increases BUT with the plots being more spread out, it represents a WEAK POSITIVE releationship."
   ]
  },
  {
   "cell_type": "markdown",
   "metadata": {},
   "source": [
    "### Cloudiness vs. Latitude Linear Regression Plot"
   ]
  },
  {
   "cell_type": "code",
   "execution_count": 27,
   "metadata": {},
   "outputs": [
    {
     "name": "stdout",
     "output_type": "stream",
     "text": [
      "The r-squared is: 0.0496692471862357\n",
      "y = 0.44x + 46.4\n"
     ]
    },
    {
     "data": {
      "image/png": "[encoded data removed]",
      "text/plain": [
       "<Figure size 432x288 with 1 Axes>"
      ]
     },
     "metadata": {
      "needs_background": "light"
     },
     "output_type": "display_data"
    }
   ],
   "source": [
    "# Northern Hemisphere\n",
    "x = northern_hemi_df['Lat']\n",
    "y = northern_hemi_df['Cloudiness']\n",
    "\n",
    "LR(x, y, xl=\"Latitude\", yl=\"Cloudiness\")"
   ]
  },
  {
   "cell_type": "code",
   "execution_count": 28,
   "metadata": {},
   "outputs": [
    {
     "name": "stdout",
     "output_type": "stream",
     "text": [
      "The r-squared is: 0.008357703363912703\n",
      "y = 0.28x + 65.41\n"
     ]
    },
    {
     "data": {
      "image/png": "[encoded data removed]",
      "text/plain": [
       "<Figure size 432x288 with 1 Axes>"
      ]
     },
     "metadata": {
      "needs_background": "light"
     },
     "output_type": "display_data"
    }
   ],
   "source": [
    "# Southern Hemisphere\n",
    "x = southern_hemi_df['Lat']\n",
    "y = southern_hemi_df['Cloudiness']\n",
    "\n",
    "LR(x, y, xl=\"Latitude\", yl=\"Cloudiness\")"
   ]
  },
  {
   "cell_type": "markdown",
   "metadata": {},
   "source": [
    "**Discussion about the linear relationship:** \n",
    "    The Northern Hemisphere shows a STRONG POSITIVE with having more condensed plots while the Southern Hemisphere shows a WEAK POSITIVE with more spaced out plots. "
   ]
  },
  {
   "cell_type": "markdown",
   "metadata": {},
   "source": [
    "### Wind Speed vs. Latitude Linear Regression Plot"
   ]
  },
  {
   "cell_type": "code",
   "execution_count": 23,
   "metadata": {},
   "outputs": [
    {
     "name": "stdout",
     "output_type": "stream",
     "text": [
      "The r-squared is: 0.04988181564510082\n",
      "y = 0.03x + 2.38\n"
     ]
    },
    {
     "data": {
      "image/png": "[encoded data removed]",
      "text/plain": [
       "<Figure size 432x288 with 1 Axes>"
      ]
     },
     "metadata": {
      "needs_background": "light"
     },
     "output_type": "display_data"
    }
   ],
   "source": [
    "# Northern Hemisphere\n",
    "x = northern_hemi_df['Lat']\n",
    "y = northern_hemi_df['Wind Speed']\n",
    "\n",
    "LR(x, y, xl=\"Latitude\", yl=\"Wind Speed\")"
   ]
  },
  {
   "cell_type": "code",
   "execution_count": 24,
   "metadata": {},
   "outputs": [
    {
     "name": "stdout",
     "output_type": "stream",
     "text": [
      "The r-squared is: 0.08211593222332217\n",
      "y = -0.05x + 2.41\n"
     ]
    },
    {
     "data": {
      "image/png": "[encoded data removed]",
      "text/plain": [
       "<Figure size 432x288 with 1 Axes>"
      ]
     },
     "metadata": {
      "needs_background": "light"
     },
     "output_type": "display_data"
    }
   ],
   "source": [
    "# Southern Hemisphere\n",
    "x = southern_hemi_df['Lat']\n",
    "y = southern_hemi_df['Wind Speed']\n",
    "\n",
    "LR(x, y, xl=\"Latitude\", yl=\"Wind Speed\")"
   ]
  },
  {
   "cell_type": "markdown",
   "metadata": {},
   "source": [
    "**Discussion about the linear relationship:** \n",
    "    In both the scatter plots, the majority of windspeed by latidude appears to be below the 8 mark by windspeed. For the Northern Hemisphere there are more higher windspeed as latidude increases being a STRONG POSITIVE. However the Southern Hemisphere appears to be a WEAK NEGATIVE. "
   ]
  }
 ],
 "metadata": {
  "anaconda-cloud": {},
  "kernel_info": {
   "name": "python3"
  },
  "kernelspec": {
   "display_name": "Python 3 (ipykernel)",
   "language": "python",
   "name": "python3"
  },
  "language_info": {
   "codemirror_mode": {
    "name": "ipython",
    "version": 3
   },
   "file_extension": ".py",
   "mimetype": "text/x-python",
   "name": "python",
   "nbconvert_exporter": "python",
   "pygments_lexer": "ipython3",
   "version": "3.9.12"
  },
  "latex_envs": {
   "LaTeX_envs_menu_present": true,
   "autoclose": false,
   "autocomplete": true,
   "bibliofile": "biblio.bib",
   "cite_by": "apalike",
   "current_citInitial": 1,
   "eqLabelWithNumbers": true,
   "eqNumInitial": 1,
   "hotkeys": {
    "equation": "Ctrl-E",
    "itemize": "Ctrl-I"
   },
   "labels_anchors": false,
   "latex_user_defs": false,
   "report_style_numbering": false,
   "user_envs_cfg": false
  },
  "nteract": {
   "version": "0.12.3"
  },
  "vscode": {
   "interpreter": {
    "hash": "f08154012ddadd8e950e6e9e035c7a7b32c136e7647e9b7c77e02eb723a8bedb"
   }
  }
 },
 "nbformat": 4,
 "nbformat_minor": 4
}
