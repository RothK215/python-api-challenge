{
 "cells": [
  {
   "cell_type": "markdown",
   "metadata": {},
   "source": [
    "# WeatherPy\n",
    "\n",
    "---\n",
    "\n",
    "## Starter Code to Generate Random Geographic Coordinates and a List of Cities"
   ]
  },
  {
   "cell_type": "code",
   "execution_count": 1,
   "metadata": {
    "scrolled": true
   },
   "outputs": [],
   "source": [
    "# Dependencies and Setup\n",
    "import matplotlib.pyplot as plt\n",
    "import pandas as pd\n",
    "import numpy as np\n",
    "import requests\n",
    "import time\n",
    "import json\n",
    "from scipy.stats import linregress\n",
    "\n",
    "# Impor the OpenWeatherMap API key\n",
    "from api_keys import weather_api_key\n",
    "\n",
    "# Import citipy to determine the cities based on latitude and longitude\n",
    "from citipy import citipy"
   ]
  },
  {
   "cell_type": "markdown",
   "metadata": {},
   "source": [
    "### Generate the Cities List by Using the `citipy` Library"
   ]
  },
  {
   "cell_type": "code",
   "execution_count": 2,
   "metadata": {},
   "outputs": [
    {
     "name": "stdout",
     "output_type": "stream",
     "text": [
      "Number of cities in the list: 602\n"
     ]
    }
   ],
   "source": [
    "# Empty list for holding the latitude and longitude combinations\n",
    "lat_lngs = []\n",
    "\n",
    "# Empty list for holding the cities names\n",
    "cities = []\n",
    "\n",
    "# Range of latitudes and longitudes\n",
    "lat_range = (-90, 90)\n",
    "lng_range = (-180, 180)\n",
    "\n",
    "# Create a set of random lat and lng combinations\n",
    "lats = np.random.uniform(lat_range[0], lat_range[1], size=1500)\n",
    "lngs = np.random.uniform(lng_range[0], lng_range[1], size=1500)\n",
    "lat_lngs = zip(lats, lngs)\n",
    "\n",
    "# Identify nearest city for each lat, lng combination\n",
    "for lat_lng in lat_lngs:\n",
    "    city = citipy.nearest_city(lat_lng[0], lat_lng[1]).city_name\n",
    "    \n",
    "    # If the city is unique, then add it to a our cities list\n",
    "    if city not in cities:\n",
    "        cities.append(city)\n",
    "\n",
    "# Print the city count to confirm sufficient count\n",
    "print(f\"Number of cities in the list: {len(cities)}\")"
   ]
  },
  {
   "cell_type": "markdown",
   "metadata": {},
   "source": [
    "---"
   ]
  },
  {
   "cell_type": "markdown",
   "metadata": {},
   "source": [
    "## Requirement 1: Create Plots to Showcase the Relationship Between Weather Variables and Latitude\n",
    "\n",
    "### Use the OpenWeatherMap API to retrieve weather data from the cities list generated in the started code"
   ]
  },
  {
   "cell_type": "code",
   "execution_count": 3,
   "metadata": {},
   "outputs": [
    {
     "name": "stdout",
     "output_type": "stream",
     "text": [
      "Beginning Data Retrieval     \n",
      "-----------------------------\n",
      "Processing Record 1 of Set 1 | berberati\n",
      "Processing Record 2 of Set 1 | mossendjo\n",
      "Processing Record 3 of Set 1 | bredasdorp\n",
      "Processing Record 4 of Set 1 | yellowknife\n",
      "Processing Record 5 of Set 1 | husavik\n",
      "Processing Record 6 of Set 1 | astana\n",
      "Processing Record 7 of Set 1 | hobart\n",
      "Processing Record 8 of Set 1 | ilulissat\n",
      "Processing Record 9 of Set 1 | mataura\n",
      "Processing Record 10 of Set 1 | saint george\n",
      "Processing Record 11 of Set 1 | tura\n",
      "Processing Record 12 of Set 1 | new norfolk\n",
      "Processing Record 13 of Set 1 | bereda\n",
      "Processing Record 14 of Set 1 | kieta\n",
      "Processing Record 15 of Set 1 | tilichiki\n",
      "Processing Record 16 of Set 1 | kodiak\n",
      "Processing Record 17 of Set 1 | tsihombe\n",
      "City not found. Skipping...\n",
      "Processing Record 18 of Set 1 | albany\n",
      "Processing Record 19 of Set 1 | jamestown\n",
      "Processing Record 20 of Set 1 | taolanaro\n",
      "City not found. Skipping...\n",
      "Processing Record 21 of Set 1 | kapaa\n",
      "Processing Record 22 of Set 1 | apaxtla\n",
      "City not found. Skipping...\n",
      "Processing Record 23 of Set 1 | qaanaaq\n",
      "Processing Record 24 of Set 1 | mahanoro\n",
      "Processing Record 25 of Set 1 | dzhusaly\n",
      "City not found. Skipping...\n",
      "Processing Record 26 of Set 1 | ushuaia\n",
      "Processing Record 27 of Set 1 | vaini\n",
      "Processing Record 28 of Set 1 | ambon\n",
      "Processing Record 29 of Set 1 | tarrega\n",
      "Processing Record 30 of Set 1 | fairbanks\n",
      "Processing Record 31 of Set 1 | nikolskoye\n",
      "Processing Record 32 of Set 1 | itaituba\n",
      "Processing Record 33 of Set 1 | tokuyama\n",
      "Processing Record 34 of Set 1 | calabozo\n",
      "Processing Record 35 of Set 1 | vallenar\n",
      "Processing Record 36 of Set 1 | balasinor\n",
      "City not found. Skipping...\n",
      "Processing Record 37 of Set 1 | guaraciaba do norte\n",
      "Processing Record 38 of Set 1 | naze\n",
      "Processing Record 39 of Set 1 | rikitea\n",
      "Processing Record 40 of Set 1 | hithadhoo\n",
      "Processing Record 41 of Set 1 | airai\n",
      "Processing Record 42 of Set 1 | provideniya\n",
      "Processing Record 43 of Set 1 | eskasem\n",
      "City not found. Skipping...\n",
      "Processing Record 44 of Set 1 | umzimvubu\n",
      "City not found. Skipping...\n",
      "Processing Record 45 of Set 1 | hilo\n",
      "Processing Record 46 of Set 1 | hermanus\n",
      "Processing Record 47 of Set 1 | sidi ali\n",
      "Processing Record 48 of Set 1 | cape town\n",
      "Processing Record 49 of Set 1 | avarua\n",
      "Processing Record 50 of Set 1 | saint anthony\n",
      "Processing Record 0 of Set 2 | zheleznodorozhnyy\n",
      "Processing Record 1 of Set 2 | mahebourg\n",
      "Processing Record 2 of Set 2 | lompoc\n",
      "Processing Record 3 of Set 2 | komsomolskiy\n",
      "Processing Record 4 of Set 2 | belushya guba\n",
      "City not found. Skipping...\n",
      "Processing Record 5 of Set 2 | mursalimkino\n",
      "Processing Record 6 of Set 2 | grand river south east\n",
      "City not found. Skipping...\n",
      "Processing Record 7 of Set 2 | keshan\n",
      "City not found. Skipping...\n",
      "Processing Record 8 of Set 2 | ballina\n",
      "Processing Record 9 of Set 2 | casino\n",
      "Processing Record 10 of Set 2 | nome\n",
      "Processing Record 11 of Set 2 | santa cruz del sur\n",
      "Processing Record 12 of Set 2 | busselton\n",
      "Processing Record 13 of Set 2 | severo-kurilsk\n",
      "Processing Record 14 of Set 2 | lensk\n",
      "Processing Record 15 of Set 2 | tumannyy\n",
      "City not found. Skipping...\n",
      "Processing Record 16 of Set 2 | souillac\n",
      "Processing Record 17 of Set 2 | bluff\n",
      "Processing Record 18 of Set 2 | mayo\n",
      "Processing Record 19 of Set 2 | hasaki\n",
      "Processing Record 20 of Set 2 | arlit\n",
      "Processing Record 21 of Set 2 | sept-iles\n",
      "Processing Record 22 of Set 2 | tuktoyaktuk\n",
      "Processing Record 23 of Set 2 | fort nelson\n",
      "Processing Record 24 of Set 2 | araouane\n",
      "Processing Record 25 of Set 2 | mandalgovi\n",
      "Processing Record 26 of Set 2 | devonport\n",
      "Processing Record 27 of Set 2 | shu\n",
      "Processing Record 28 of Set 2 | marsh harbour\n",
      "Processing Record 29 of Set 2 | longyearbyen\n",
      "Processing Record 30 of Set 2 | sinnamary\n",
      "Processing Record 31 of Set 2 | delvada\n",
      "Processing Record 32 of Set 2 | vao\n",
      "Processing Record 33 of Set 2 | olga\n",
      "Processing Record 34 of Set 2 | shwebo\n",
      "Processing Record 35 of Set 2 | georgetown\n",
      "Processing Record 36 of Set 2 | adrar\n",
      "Processing Record 37 of Set 2 | penarroya-pueblonuevo\n",
      "Processing Record 38 of Set 2 | cherskiy\n",
      "Processing Record 39 of Set 2 | sabang\n",
      "Processing Record 40 of Set 2 | viedma\n",
      "Processing Record 41 of Set 2 | kyabe\n",
      "Processing Record 42 of Set 2 | bandarbeyla\n",
      "Processing Record 43 of Set 2 | alofi\n",
      "Processing Record 44 of Set 2 | cabo san lucas\n",
      "Processing Record 45 of Set 2 | saskylakh\n",
      "Processing Record 46 of Set 2 | chuy\n",
      "Processing Record 47 of Set 2 | paita\n",
      "Processing Record 48 of Set 2 | ulety\n",
      "Processing Record 49 of Set 2 | jalu\n",
      "Processing Record 0 of Set 3 | svirstroy\n",
      "Processing Record 1 of Set 3 | ranau\n",
      "Processing Record 2 of Set 3 | bengkulu\n",
      "Processing Record 3 of Set 3 | castro\n",
      "Processing Record 4 of Set 3 | butaritari\n",
      "Processing Record 5 of Set 3 | chiang khong\n",
      "Processing Record 6 of Set 3 | katherine\n",
      "Processing Record 7 of Set 3 | illoqqortoormiut\n",
      "City not found. Skipping...\n",
      "Processing Record 8 of Set 3 | bubaque\n",
      "Processing Record 9 of Set 3 | arraial do cabo\n",
      "Processing Record 10 of Set 3 | ribeira grande\n",
      "Processing Record 11 of Set 3 | praia\n",
      "Processing Record 12 of Set 3 | kahului\n",
      "Processing Record 13 of Set 3 | lavrentiya\n",
      "Processing Record 14 of Set 3 | sur\n",
      "Processing Record 15 of Set 3 | chokurdakh\n",
      "Processing Record 16 of Set 3 | porto santo\n",
      "Processing Record 17 of Set 3 | ust-nera\n",
      "Processing Record 18 of Set 3 | boddam\n",
      "Processing Record 19 of Set 3 | sao filipe\n",
      "Processing Record 20 of Set 3 | lashio\n",
      "Processing Record 21 of Set 3 | kaitangata\n",
      "Processing Record 22 of Set 3 | ponta do sol\n",
      "Processing Record 23 of Set 3 | ippy\n",
      "Processing Record 24 of Set 3 | cidreira\n",
      "Processing Record 25 of Set 3 | vila\n",
      "Processing Record 26 of Set 3 | atuona\n",
      "Processing Record 27 of Set 3 | tombouctou\n",
      "Processing Record 28 of Set 3 | fukue\n",
      "Processing Record 29 of Set 3 | vestmannaeyjar\n",
      "Processing Record 30 of Set 3 | trindade\n",
      "Processing Record 31 of Set 3 | lasa\n",
      "Processing Record 32 of Set 3 | ucluelet\n",
      "Processing Record 33 of Set 3 | bathsheba\n",
      "Processing Record 34 of Set 3 | ardakan\n",
      "Processing Record 35 of Set 3 | buraydah\n",
      "Processing Record 36 of Set 3 | dikson\n",
      "Processing Record 37 of Set 3 | upernavik\n",
      "Processing Record 38 of Set 3 | punta arenas\n",
      "Processing Record 39 of Set 3 | pangai\n",
      "Processing Record 40 of Set 3 | thompson\n",
      "Processing Record 41 of Set 3 | east london\n",
      "Processing Record 42 of Set 3 | jinchengjiang\n",
      "City not found. Skipping...\n",
      "Processing Record 43 of Set 3 | karratha\n",
      "Processing Record 44 of Set 3 | nanortalik\n",
      "Processing Record 45 of Set 3 | tasiilaq\n",
      "Processing Record 46 of Set 3 | bambous virieux\n",
      "Processing Record 47 of Set 3 | loa janan\n",
      "Processing Record 48 of Set 3 | toliary\n",
      "City not found. Skipping...\n",
      "Processing Record 49 of Set 3 | ketchikan\n",
      "Processing Record 0 of Set 4 | garissa\n",
      "Processing Record 1 of Set 4 | nuuk\n",
      "Processing Record 2 of Set 4 | geraldton\n",
      "Processing Record 3 of Set 4 | pagegiai\n",
      "Processing Record 4 of Set 4 | hauge\n",
      "Processing Record 5 of Set 4 | pisco\n",
      "Processing Record 6 of Set 4 | barrow\n",
      "Processing Record 7 of Set 4 | emba\n",
      "Processing Record 8 of Set 4 | norman wells\n",
      "Processing Record 9 of Set 4 | xuzhou\n",
      "Processing Record 10 of Set 4 | saleaula\n",
      "City not found. Skipping...\n",
      "Processing Record 11 of Set 4 | tigil\n",
      "Processing Record 12 of Set 4 | yairipok\n",
      "Processing Record 13 of Set 4 | avera\n",
      "Processing Record 14 of Set 4 | torbay\n",
      "Processing Record 15 of Set 4 | paucartambo\n",
      "City not found. Skipping...\n",
      "Processing Record 16 of Set 4 | puerto madryn\n",
      "Processing Record 17 of Set 4 | gujar khan\n",
      "Processing Record 18 of Set 4 | port elizabeth\n",
      "Processing Record 19 of Set 4 | santa maria\n",
      "Processing Record 20 of Set 4 | nicoya\n",
      "Processing Record 21 of Set 4 | qaqortoq\n",
      "Processing Record 22 of Set 4 | atar\n",
      "Processing Record 23 of Set 4 | evensk\n",
      "Processing Record 24 of Set 4 | talaya\n",
      "Processing Record 25 of Set 4 | mount isa\n",
      "Processing Record 26 of Set 4 | bouza\n",
      "Processing Record 27 of Set 4 | port alfred\n",
      "Processing Record 28 of Set 4 | nelson bay\n",
      "Processing Record 29 of Set 4 | aykhal\n",
      "Processing Record 30 of Set 4 | luziania\n",
      "Processing Record 31 of Set 4 | mount gambier\n",
      "Processing Record 32 of Set 4 | moussoro\n",
      "Processing Record 33 of Set 4 | ankang\n",
      "Processing Record 34 of Set 4 | issenye\n",
      "Processing Record 35 of Set 4 | carnarvon\n",
      "Processing Record 36 of Set 4 | afogados da ingazeira\n"
     ]
    },
    {
     "name": "stdout",
     "output_type": "stream",
     "text": [
      "Processing Record 37 of Set 4 | mys shmidta\n",
      "City not found. Skipping...\n",
      "Processing Record 38 of Set 4 | buala\n",
      "Processing Record 39 of Set 4 | valera\n",
      "Processing Record 40 of Set 4 | prince rupert\n",
      "Processing Record 41 of Set 4 | iqaluit\n",
      "Processing Record 42 of Set 4 | acapetahua\n",
      "Processing Record 43 of Set 4 | zaysan\n",
      "Processing Record 44 of Set 4 | bella vista\n",
      "Processing Record 45 of Set 4 | richards bay\n",
      "Processing Record 46 of Set 4 | narsaq\n",
      "Processing Record 47 of Set 4 | nizhniy tsasuchey\n",
      "Processing Record 48 of Set 4 | lebu\n",
      "Processing Record 49 of Set 4 | huaihua\n",
      "Processing Record 0 of Set 5 | bethel\n",
      "Processing Record 1 of Set 5 | chase\n",
      "Processing Record 2 of Set 5 | abu samrah\n",
      "Processing Record 3 of Set 5 | tankhoy\n",
      "Processing Record 4 of Set 5 | san carlos de bariloche\n",
      "Processing Record 5 of Set 5 | acapulco\n",
      "Processing Record 6 of Set 5 | havre-saint-pierre\n",
      "Processing Record 7 of Set 5 | touros\n",
      "Processing Record 8 of Set 5 | newcastle\n",
      "Processing Record 9 of Set 5 | puerto ayora\n",
      "Processing Record 10 of Set 5 | labuhan\n",
      "Processing Record 11 of Set 5 | dunedin\n",
      "Processing Record 12 of Set 5 | grindavik\n",
      "Processing Record 13 of Set 5 | jibuti\n",
      "Processing Record 14 of Set 5 | maloy\n",
      "Processing Record 15 of Set 5 | dzhankoy\n",
      "Processing Record 16 of Set 5 | saint-philippe\n",
      "Processing Record 17 of Set 5 | flinders\n",
      "Processing Record 18 of Set 5 | port lincoln\n",
      "Processing Record 19 of Set 5 | nabire\n",
      "Processing Record 20 of Set 5 | rancharia\n",
      "Processing Record 21 of Set 5 | inhambane\n",
      "Processing Record 22 of Set 5 | saldanha\n",
      "Processing Record 23 of Set 5 | constitucion\n",
      "Processing Record 24 of Set 5 | ust-kamchatsk\n",
      "City not found. Skipping...\n",
      "Processing Record 25 of Set 5 | conde\n",
      "Processing Record 26 of Set 5 | khani\n",
      "Processing Record 27 of Set 5 | antalaha\n",
      "Processing Record 28 of Set 5 | mahanje\n",
      "Processing Record 29 of Set 5 | ojinaga\n",
      "Processing Record 30 of Set 5 | namibe\n",
      "Processing Record 31 of Set 5 | san cristobal\n",
      "Processing Record 32 of Set 5 | tarko-sale\n",
      "Processing Record 33 of Set 5 | nan\n",
      "Processing Record 34 of Set 5 | samusu\n",
      "City not found. Skipping...\n",
      "Processing Record 35 of Set 5 | kirakira\n",
      "Processing Record 36 of Set 5 | mar del plata\n",
      "Processing Record 37 of Set 5 | kantunilkin\n",
      "Processing Record 38 of Set 5 | brattvag\n",
      "Processing Record 39 of Set 5 | quelimane\n",
      "Processing Record 40 of Set 5 | kavaratti\n",
      "Processing Record 41 of Set 5 | barentsburg\n",
      "City not found. Skipping...\n",
      "Processing Record 42 of Set 5 | faanui\n",
      "Processing Record 43 of Set 5 | dothan\n",
      "Processing Record 44 of Set 5 | crotone\n",
      "Processing Record 45 of Set 5 | ambilobe\n",
      "Processing Record 46 of Set 5 | deputatskiy\n",
      "Processing Record 47 of Set 5 | rungata\n",
      "City not found. Skipping...\n",
      "Processing Record 48 of Set 5 | dickinson\n",
      "Processing Record 49 of Set 5 | afonso bezerra\n",
      "Processing Record 0 of Set 6 | barbar\n",
      "City not found. Skipping...\n",
      "Processing Record 1 of Set 6 | teguldet\n",
      "Processing Record 2 of Set 6 | carballo\n",
      "Processing Record 3 of Set 6 | patacamaya\n",
      "Processing Record 4 of Set 6 | haines junction\n",
      "Processing Record 5 of Set 6 | khatanga\n",
      "Processing Record 6 of Set 6 | coquimbo\n",
      "Processing Record 7 of Set 6 | esperance\n",
      "Processing Record 8 of Set 6 | shiraoi\n",
      "Processing Record 9 of Set 6 | benghazi\n",
      "Processing Record 10 of Set 6 | clyde river\n",
      "Processing Record 11 of Set 6 | pozo colorado\n",
      "Processing Record 12 of Set 6 | hualmay\n",
      "Processing Record 13 of Set 6 | attawapiskat\n",
      "City not found. Skipping...\n",
      "Processing Record 14 of Set 6 | nizhneyansk\n",
      "City not found. Skipping...\n",
      "Processing Record 15 of Set 6 | esil\n",
      "Processing Record 16 of Set 6 | teeli\n",
      "Processing Record 17 of Set 6 | martapura\n",
      "Processing Record 18 of Set 6 | oranjestad\n",
      "Processing Record 19 of Set 6 | sokoto\n",
      "Processing Record 20 of Set 6 | pimentel\n",
      "Processing Record 21 of Set 6 | baykit\n",
      "Processing Record 22 of Set 6 | okhotsk\n",
      "Processing Record 23 of Set 6 | abu dhabi\n",
      "Processing Record 24 of Set 6 | katsuura\n",
      "Processing Record 25 of Set 6 | muisne\n",
      "Processing Record 26 of Set 6 | amderma\n",
      "City not found. Skipping...\n",
      "Processing Record 27 of Set 6 | golden\n",
      "Processing Record 28 of Set 6 | palabuhanratu\n",
      "City not found. Skipping...\n",
      "Processing Record 29 of Set 6 | sitka\n",
      "Processing Record 30 of Set 6 | sanmenxia\n",
      "Processing Record 31 of Set 6 | dalvik\n",
      "Processing Record 32 of Set 6 | dapaong\n",
      "Processing Record 33 of Set 6 | khandyga\n",
      "Processing Record 34 of Set 6 | tarudant\n",
      "City not found. Skipping...\n",
      "Processing Record 35 of Set 6 | mehamn\n",
      "Processing Record 36 of Set 6 | ampanihy\n",
      "Processing Record 37 of Set 6 | pucallpa\n",
      "Processing Record 38 of Set 6 | camacha\n",
      "Processing Record 39 of Set 6 | merauke\n",
      "Processing Record 40 of Set 6 | elko\n",
      "Processing Record 41 of Set 6 | viransehir\n",
      "Processing Record 42 of Set 6 | fare\n",
      "Processing Record 43 of Set 6 | salinopolis\n",
      "Processing Record 44 of Set 6 | verkhnevilyuysk\n",
      "Processing Record 45 of Set 6 | guerrero negro\n",
      "Processing Record 46 of Set 6 | anastacio\n",
      "Processing Record 47 of Set 6 | port macquarie\n",
      "Processing Record 48 of Set 6 | sukumo\n",
      "Processing Record 49 of Set 6 | anadyr\n",
      "Processing Record 0 of Set 7 | dicabisagan\n",
      "Processing Record 1 of Set 7 | gornopravdinsk\n",
      "Processing Record 2 of Set 7 | keflavik\n",
      "Processing Record 3 of Set 7 | talnakh\n",
      "Processing Record 4 of Set 7 | ancud\n",
      "Processing Record 5 of Set 7 | scarborough\n",
      "Processing Record 6 of Set 7 | la palma\n",
      "Processing Record 7 of Set 7 | college\n",
      "Processing Record 8 of Set 7 | tungor\n",
      "Processing Record 9 of Set 7 | xichang\n",
      "Processing Record 10 of Set 7 | klaksvik\n",
      "Processing Record 11 of Set 7 | westport\n",
      "Processing Record 12 of Set 7 | marawi\n",
      "Processing Record 13 of Set 7 | bose\n",
      "Processing Record 14 of Set 7 | hay river\n",
      "Processing Record 15 of Set 7 | vaitupu\n",
      "City not found. Skipping...\n",
      "Processing Record 16 of Set 7 | puerto lleras\n",
      "Processing Record 17 of Set 7 | noumea\n",
      "Processing Record 18 of Set 7 | cockburn town\n",
      "Processing Record 19 of Set 7 | kargopol\n",
      "Processing Record 20 of Set 7 | road town\n",
      "Processing Record 21 of Set 7 | clonakilty\n",
      "Processing Record 22 of Set 7 | stephenville\n",
      "Processing Record 23 of Set 7 | christchurch\n",
      "Processing Record 24 of Set 7 | araguari\n",
      "Processing Record 25 of Set 7 | kuche\n",
      "City not found. Skipping...\n",
      "Processing Record 26 of Set 7 | tonj\n",
      "Processing Record 27 of Set 7 | tiksi\n",
      "Processing Record 28 of Set 7 | eyl\n",
      "Processing Record 29 of Set 7 | pochutla\n",
      "Processing Record 30 of Set 7 | jingdezhen\n",
      "Processing Record 31 of Set 7 | tahta\n",
      "Processing Record 32 of Set 7 | jakhal mandi\n",
      "City not found. Skipping...\n",
      "Processing Record 33 of Set 7 | yantal\n",
      "Processing Record 34 of Set 7 | ulaangom\n",
      "Processing Record 35 of Set 7 | launceston\n",
      "Processing Record 36 of Set 7 | yar-sale\n",
      "Processing Record 37 of Set 7 | solnechnyy\n",
      "Processing Record 38 of Set 7 | sao joao da barra\n",
      "Processing Record 39 of Set 7 | medina\n",
      "Processing Record 40 of Set 7 | port augusta\n",
      "Processing Record 41 of Set 7 | paamiut\n",
      "Processing Record 42 of Set 7 | tarancon\n",
      "Processing Record 43 of Set 7 | victoria\n",
      "Processing Record 44 of Set 7 | tomatlan\n",
      "Processing Record 45 of Set 7 | centralia\n",
      "Processing Record 46 of Set 7 | maiduguri\n",
      "Processing Record 47 of Set 7 | abha\n",
      "Processing Record 48 of Set 7 | padang\n",
      "Processing Record 49 of Set 7 | la ciotat\n",
      "Processing Record 0 of Set 8 | mantua\n",
      "Processing Record 1 of Set 8 | portland\n",
      "Processing Record 2 of Set 8 | marystown\n",
      "Processing Record 3 of Set 8 | manzil jamil\n",
      "City not found. Skipping...\n",
      "Processing Record 4 of Set 8 | yangjiang\n",
      "Processing Record 5 of Set 8 | oranjemund\n",
      "Processing Record 6 of Set 8 | salta\n",
      "Processing Record 7 of Set 8 | omsukchan\n",
      "Processing Record 8 of Set 8 | marcona\n",
      "City not found. Skipping...\n",
      "Processing Record 9 of Set 8 | caravelas\n",
      "Processing Record 10 of Set 8 | baculin\n",
      "Processing Record 11 of Set 8 | svecha\n",
      "Processing Record 12 of Set 8 | dashitou\n",
      "Processing Record 13 of Set 8 | kindu\n",
      "Processing Record 14 of Set 8 | ossora\n",
      "Processing Record 15 of Set 8 | port-cartier\n",
      "Processing Record 16 of Set 8 | shetpe\n",
      "Processing Record 17 of Set 8 | soyo\n",
      "Processing Record 18 of Set 8 | aklavik\n",
      "Processing Record 19 of Set 8 | north bend\n",
      "Processing Record 20 of Set 8 | cabinda\n",
      "Processing Record 21 of Set 8 | la ronge\n",
      "Processing Record 22 of Set 8 | san javier\n",
      "Processing Record 23 of Set 8 | marquette\n",
      "Processing Record 24 of Set 8 | port huron\n"
     ]
    },
    {
     "name": "stdout",
     "output_type": "stream",
     "text": [
      "Processing Record 25 of Set 8 | da lat\n",
      "Processing Record 26 of Set 8 | waipawa\n",
      "Processing Record 27 of Set 8 | batagay\n",
      "Processing Record 28 of Set 8 | oyem\n",
      "Processing Record 29 of Set 8 | tapes\n",
      "Processing Record 30 of Set 8 | ekhabi\n",
      "Processing Record 31 of Set 8 | raudeberg\n",
      "Processing Record 32 of Set 8 | kachiry\n",
      "Processing Record 33 of Set 8 | inuvik\n",
      "Processing Record 34 of Set 8 | yumen\n",
      "Processing Record 35 of Set 8 | vila franca do campo\n",
      "Processing Record 36 of Set 8 | puerto baquerizo moreno\n",
      "Processing Record 37 of Set 8 | boyuibe\n",
      "Processing Record 38 of Set 8 | arroyo\n",
      "Processing Record 39 of Set 8 | powell river\n",
      "Processing Record 40 of Set 8 | springfield\n",
      "Processing Record 41 of Set 8 | abohar\n",
      "Processing Record 42 of Set 8 | muros\n",
      "Processing Record 43 of Set 8 | anito\n",
      "Processing Record 44 of Set 8 | upington\n",
      "Processing Record 45 of Set 8 | tolstoy-yurt\n",
      "Processing Record 46 of Set 8 | shelburne\n",
      "Processing Record 47 of Set 8 | zachagansk\n",
      "City not found. Skipping...\n",
      "Processing Record 48 of Set 8 | ottumwa\n",
      "Processing Record 49 of Set 8 | fortuna\n",
      "Processing Record 0 of Set 9 | codrington\n",
      "Processing Record 1 of Set 9 | ghanzi\n",
      "Processing Record 2 of Set 9 | comodoro rivadavia\n",
      "Processing Record 3 of Set 9 | beringovskiy\n",
      "Processing Record 4 of Set 9 | marand\n",
      "Processing Record 5 of Set 9 | teahupoo\n",
      "Processing Record 6 of Set 9 | kendari\n",
      "Processing Record 7 of Set 9 | waseca\n",
      "Processing Record 8 of Set 9 | honningsvag\n",
      "Processing Record 9 of Set 9 | ledyard\n",
      "Processing Record 10 of Set 9 | west bay\n",
      "Processing Record 11 of Set 9 | kudahuvadhoo\n",
      "Processing Record 12 of Set 9 | nemuro\n",
      "Processing Record 13 of Set 9 | port keats\n",
      "Processing Record 14 of Set 9 | tabiauea\n",
      "City not found. Skipping...\n",
      "Processing Record 15 of Set 9 | porto belo\n",
      "Processing Record 16 of Set 9 | lagoa\n",
      "Processing Record 17 of Set 9 | benguela\n",
      "Processing Record 18 of Set 9 | porohy\n",
      "Processing Record 19 of Set 9 | gigmoto\n",
      "Processing Record 20 of Set 9 | lorengau\n",
      "Processing Record 21 of Set 9 | puerto del rosario\n",
      "Processing Record 22 of Set 9 | digby\n",
      "Processing Record 23 of Set 9 | hamilton\n",
      "Processing Record 24 of Set 9 | bolshegrivskoye\n",
      "City not found. Skipping...\n",
      "Processing Record 25 of Set 9 | victor harbor\n",
      "Processing Record 26 of Set 9 | dwarahat\n",
      "Processing Record 27 of Set 9 | tucuman\n",
      "Processing Record 28 of Set 9 | limbang\n",
      "Processing Record 29 of Set 9 | nsanje\n",
      "Processing Record 30 of Set 9 | sedalia\n",
      "Processing Record 31 of Set 9 | luderitz\n",
      "Processing Record 32 of Set 9 | gurlan\n",
      "Processing Record 33 of Set 9 | drayton valley\n",
      "Processing Record 34 of Set 9 | bairiki\n",
      "Processing Record 35 of Set 9 | bjornevatn\n",
      "Processing Record 36 of Set 9 | sansai\n",
      "City not found. Skipping...\n",
      "Processing Record 37 of Set 9 | wanning\n",
      "Processing Record 38 of Set 9 | kiszombor\n",
      "Processing Record 39 of Set 9 | azimur\n",
      "City not found. Skipping...\n",
      "Processing Record 40 of Set 9 | tautira\n",
      "Processing Record 41 of Set 9 | vardo\n",
      "Processing Record 42 of Set 9 | atasu\n",
      "Processing Record 43 of Set 9 | lagunas\n",
      "Processing Record 44 of Set 9 | mitsamiouli\n",
      "Processing Record 45 of Set 9 | sechura\n",
      "Processing Record 46 of Set 9 | zhaotong\n",
      "Processing Record 47 of Set 9 | lithakia\n",
      "Processing Record 48 of Set 9 | bolungarvik\n",
      "City not found. Skipping...\n",
      "Processing Record 49 of Set 9 | leningradskiy\n",
      "Processing Record 0 of Set 10 | ushumun\n",
      "Processing Record 1 of Set 10 | songjianghe\n",
      "Processing Record 2 of Set 10 | erenhot\n",
      "Processing Record 3 of Set 10 | jasper\n",
      "Processing Record 4 of Set 10 | vostok\n",
      "Processing Record 5 of Set 10 | meulaboh\n",
      "Processing Record 6 of Set 10 | malinovoye ozero\n",
      "Processing Record 7 of Set 10 | aykino\n",
      "Processing Record 8 of Set 10 | dumbea\n",
      "Processing Record 9 of Set 10 | asau\n",
      "Processing Record 10 of Set 10 | fevik\n",
      "Processing Record 11 of Set 10 | yei\n",
      "Processing Record 12 of Set 10 | hibbing\n",
      "Processing Record 13 of Set 10 | juneau\n",
      "Processing Record 14 of Set 10 | bailleul\n",
      "Processing Record 15 of Set 10 | ciudad bolivar\n",
      "Processing Record 16 of Set 10 | saltillo\n",
      "Processing Record 17 of Set 10 | muroto\n",
      "Processing Record 18 of Set 10 | presidencia roque saenz pena\n",
      "Processing Record 19 of Set 10 | pangody\n",
      "Processing Record 20 of Set 10 | peyima\n",
      "Processing Record 21 of Set 10 | big rapids\n",
      "Processing Record 22 of Set 10 | zambezi\n",
      "Processing Record 23 of Set 10 | viligili\n",
      "City not found. Skipping...\n",
      "Processing Record 24 of Set 10 | ratnagiri\n",
      "Processing Record 25 of Set 10 | sampit\n",
      "Processing Record 26 of Set 10 | port hardy\n",
      "Processing Record 27 of Set 10 | berezanka\n",
      "Processing Record 28 of Set 10 | saint-pierre\n",
      "Processing Record 29 of Set 10 | pevek\n",
      "Processing Record 30 of Set 10 | dingle\n",
      "Processing Record 31 of Set 10 | verkhniy avzyan\n",
      "Processing Record 32 of Set 10 | dong hoi\n",
      "Processing Record 33 of Set 10 | beaverlodge\n",
      "Processing Record 34 of Set 10 | velyka oleksandrivka\n",
      "Processing Record 35 of Set 10 | puerto colombia\n",
      "Processing Record 36 of Set 10 | thaba-tseka\n",
      "Processing Record 37 of Set 10 | kyra\n",
      "Processing Record 38 of Set 10 | rehoboth\n",
      "Processing Record 39 of Set 10 | suntar\n",
      "Processing Record 40 of Set 10 | ahipara\n",
      "Processing Record 41 of Set 10 | ondangwa\n",
      "Processing Record 42 of Set 10 | rawson\n",
      "Processing Record 43 of Set 10 | parfenyevo\n",
      "Processing Record 44 of Set 10 | daud khel\n",
      "Processing Record 45 of Set 10 | kinango\n",
      "Processing Record 46 of Set 10 | wloszczowa\n",
      "Processing Record 47 of Set 10 | hirado\n",
      "Processing Record 48 of Set 10 | pokhara\n",
      "Processing Record 49 of Set 10 | madang\n",
      "Processing Record 0 of Set 11 | lahij\n",
      "Processing Record 1 of Set 11 | bauru\n",
      "Processing Record 2 of Set 11 | matara\n",
      "Processing Record 3 of Set 11 | boca do acre\n",
      "Processing Record 4 of Set 11 | champerico\n",
      "Processing Record 5 of Set 11 | vestmanna\n",
      "Processing Record 6 of Set 11 | suhbaatar\n",
      "Processing Record 7 of Set 11 | tutoia\n",
      "Processing Record 8 of Set 11 | sentyabrskiy\n",
      "City not found. Skipping...\n",
      "Processing Record 9 of Set 11 | lively\n",
      "Processing Record 10 of Set 11 | sola\n",
      "Processing Record 11 of Set 11 | chihuahua\n",
      "Processing Record 12 of Set 11 | kasongo-lunda\n",
      "Processing Record 13 of Set 11 | along\n",
      "Processing Record 14 of Set 11 | priargunsk\n",
      "Processing Record 15 of Set 11 | pemberton\n",
      "Processing Record 16 of Set 11 | lolua\n",
      "City not found. Skipping...\n",
      "Processing Record 17 of Set 11 | ifanadiana\n",
      "Processing Record 18 of Set 11 | birao\n",
      "Processing Record 19 of Set 11 | iquique\n",
      "Processing Record 20 of Set 11 | hope mills\n",
      "Processing Record 21 of Set 11 | kruisfontein\n",
      "Processing Record 22 of Set 11 | biltine\n",
      "Processing Record 23 of Set 11 | toftir\n",
      "City not found. Skipping...\n",
      "Processing Record 24 of Set 11 | san andres\n",
      "Processing Record 25 of Set 11 | salalah\n",
      "Processing Record 26 of Set 11 | athens\n",
      "Processing Record 27 of Set 11 | de aar\n",
      "Processing Record 28 of Set 11 | kamenka\n",
      "Processing Record 29 of Set 11 | egvekinot\n",
      "Processing Record 30 of Set 11 | karsun\n",
      "Processing Record 31 of Set 11 | svetlogorsk\n",
      "Processing Record 32 of Set 11 | miragoane\n",
      "Processing Record 33 of Set 11 | palembang\n",
      "Processing Record 34 of Set 11 | manokwari\n",
      "Processing Record 35 of Set 11 | nantucket\n",
      "Processing Record 36 of Set 11 | pangnirtung\n",
      "Processing Record 37 of Set 11 | port blair\n",
      "Processing Record 38 of Set 11 | renqiu\n",
      "Processing Record 39 of Set 11 | great yarmouth\n",
      "Processing Record 40 of Set 11 | sun city west\n",
      "Processing Record 41 of Set 11 | marzuq\n",
      "Processing Record 42 of Set 11 | shumerlya\n",
      "Processing Record 43 of Set 11 | takoradi\n",
      "Processing Record 44 of Set 11 | san patricio\n",
      "Processing Record 45 of Set 11 | sorland\n",
      "Processing Record 46 of Set 11 | port-gentil\n",
      "Processing Record 47 of Set 11 | manjacaze\n",
      "Processing Record 48 of Set 11 | kattivakkam\n",
      "Processing Record 49 of Set 11 | buin\n",
      "Processing Record 0 of Set 12 | hai phong\n",
      "City not found. Skipping...\n",
      "Processing Record 1 of Set 12 | luxor\n",
      "Processing Record 2 of Set 12 | smithers\n",
      "Processing Record 3 of Set 12 | mombetsu\n",
      "Processing Record 4 of Set 12 | indianola\n",
      "Processing Record 5 of Set 12 | cayenne\n",
      "Processing Record 6 of Set 12 | basco\n",
      "Processing Record 7 of Set 12 | soeng sang\n",
      "Processing Record 8 of Set 12 | maningrida\n",
      "Processing Record 9 of Set 12 | anchorage\n",
      "Processing Record 10 of Set 12 | quatre cocos\n",
      "Processing Record 11 of Set 12 | jolalpan\n",
      "Processing Record 12 of Set 12 | yomitan\n",
      "City not found. Skipping...\n",
      "Processing Record 13 of Set 12 | tamale\n"
     ]
    },
    {
     "name": "stdout",
     "output_type": "stream",
     "text": [
      "Processing Record 14 of Set 12 | alta\n",
      "Processing Record 15 of Set 12 | wawina\n",
      "Processing Record 16 of Set 12 | kamenskiy\n",
      "Processing Record 17 of Set 12 | henties bay\n",
      "Processing Record 18 of Set 12 | pegnitz\n",
      "Processing Record 19 of Set 12 | biak\n",
      "Processing Record 20 of Set 12 | sorong\n",
      "Processing Record 21 of Set 12 | jardim\n",
      "Processing Record 22 of Set 12 | qena\n",
      "Processing Record 23 of Set 12 | shasta lake\n",
      "Processing Record 24 of Set 12 | arman\n",
      "Processing Record 25 of Set 12 | ratangarh\n",
      "Processing Record 26 of Set 12 | tuatapere\n",
      "Processing Record 27 of Set 12 | sal rei\n",
      "Processing Record 28 of Set 12 | alta floresta\n",
      "Processing Record 29 of Set 12 | tessalit\n",
      "Processing Record 30 of Set 12 | ormenion\n",
      "City not found. Skipping...\n",
      "Processing Record 31 of Set 12 | biskamzha\n",
      "Processing Record 32 of Set 12 | svetlyy\n",
      "Processing Record 33 of Set 12 | half moon bay\n",
      "Processing Record 34 of Set 12 | manavalakurichi\n",
      "Processing Record 35 of Set 12 | gravdal\n",
      "Processing Record 36 of Set 12 | onguday\n",
      "Processing Record 37 of Set 12 | mitzic\n",
      "Processing Record 38 of Set 12 | kavieng\n",
      "Processing Record 39 of Set 12 | nizwa\n",
      "Processing Record 40 of Set 12 | potgietersrus\n",
      "City not found. Skipping...\n",
      "Processing Record 41 of Set 12 | berlevag\n",
      "Processing Record 42 of Set 12 | yeppoon\n",
      "Processing Record 43 of Set 12 | pauini\n",
      "Processing Record 44 of Set 12 | bonavista\n",
      "Processing Record 45 of Set 12 | tres arroyos\n",
      "Processing Record 46 of Set 12 | trairi\n",
      "Processing Record 47 of Set 12 | winchester\n",
      "Processing Record 48 of Set 12 | boffa\n",
      "Processing Record 49 of Set 12 | murgab\n",
      "Processing Record 0 of Set 13 | pasighat\n",
      "Processing Record 1 of Set 13 | bitung\n",
      "-----------------------------\n",
      "Data Retrieval Complete      \n",
      "-----------------------------\n"
     ]
    }
   ],
   "source": [
    "# Set the API base URL\n",
    "url = \"http://api.openweathermap.org/data/2.5/weather?units=Metric&APPID=\" + weather_api_key\n",
    "\n",
    "# Define an empty list to fetch the weather data for each city\n",
    "city_data = []\n",
    "\n",
    "# Print to logger\n",
    "print(\"Beginning Data Retrieval     \")\n",
    "print(\"-----------------------------\")\n",
    "\n",
    "# Create counters\n",
    "record_count = 1\n",
    "set_count = 1\n",
    "\n",
    "# Loop through all the cities in our list to fetch weather data\n",
    "for i, city in enumerate(cities):\n",
    "        \n",
    "    # Group cities in sets of 50 for logging purposes\n",
    "    if (i % 50 == 0 and i >= 50):\n",
    "        set_count += 1\n",
    "        record_count = 0\n",
    "\n",
    "    # Create endpoint URL with each city\n",
    "    city_url = url + \"&q=\"\n",
    "    \n",
    "    # Log the url, record, and set numbers\n",
    "    print(\"Processing Record %s of Set %s | %s\" % (record_count, set_count, city))\n",
    "\n",
    "    # Add 1 to the record count\n",
    "    record_count += 1\n",
    "\n",
    "    # Run an API request for each of the cities\n",
    "    try:\n",
    "        # Parse the JSON and retrieve data\n",
    "        city_weather = requests.get(city_url+city).json()\n",
    "        # Parse out latitude, longitude, max temp, humidity, cloudiness, wind speed, country, and date\n",
    "        city_lat = city_weather['coord']['lat']\n",
    "        city_lon = city_weather['coord']['lon']\n",
    "        city_max_temp = city_weather['main']['temp_max']\n",
    "        city_humidity = city_weather['main']['humidity']\n",
    "        city_clouds = city_weather['clouds']['all']\n",
    "        city_wind = city_weather['wind']['speed']\n",
    "        city_country = city_weather['sys']['country']\n",
    "        city_date = city_weather['dt']\n",
    "        # Append the City information into city_data list\n",
    "        city_data.append({\"City\": city, \n",
    "                          \"Lat\": city_lat, \n",
    "                          \"Lng\": city_lon, \n",
    "                          \"Max Temp\": city_max_temp,\n",
    "                          \"Humidity\": city_humidity,\n",
    "                          \"Cloudiness\": city_clouds,\n",
    "                          \"Wind Speed\": city_wind,\n",
    "                          \"Country\": city_country,\n",
    "                          \"Date\": city_date})\n",
    "\n",
    "    # If an error is experienced, skip the city\n",
    "    except:\n",
    "        print(\"City not found. Skipping...\")\n",
    "        pass\n",
    "              \n",
    "# Indicate that Data Loading is complete \n",
    "print(\"-----------------------------\")\n",
    "print(\"Data Retrieval Complete      \")\n",
    "print(\"-----------------------------\")"
   ]
  },
  {
   "cell_type": "code",
   "execution_count": 4,
   "metadata": {},
   "outputs": [
    {
     "data": {
      "text/plain": [
       "City          556\n",
       "Lat           556\n",
       "Lng           556\n",
       "Max Temp      556\n",
       "Humidity      556\n",
       "Cloudiness    556\n",
       "Wind Speed    556\n",
       "Country       556\n",
       "Date          556\n",
       "dtype: int64"
      ]
     },
     "execution_count": 4,
     "metadata": {},
     "output_type": "execute_result"
    }
   ],
   "source": [
    "# Convert the cities weather data into a Pandas DataFrame\n",
    "city_data_df = pd.DataFrame(city_data)\n",
    "\n",
    "# Show Record Count\n",
    "city_data_df.count()"
   ]
  },
  {
   "cell_type": "code",
   "execution_count": 5,
   "metadata": {},
   "outputs": [
    {
     "data": {
      "text/html": [
       "<div>\n",
       "<style scoped>\n",
       "    .dataframe tbody tr th:only-of-type {\n",
       "        vertical-align: middle;\n",
       "    }\n",
       "\n",
       "    .dataframe tbody tr th {\n",
       "        vertical-align: top;\n",
       "    }\n",
       "\n",
       "    .dataframe thead th {\n",
       "        text-align: right;\n",
       "    }\n",
       "</style>\n",
       "<table border=\"1\" class=\"dataframe\">\n",
       "  <thead>\n",
       "    <tr style=\"text-align: right;\">\n",
       "      <th></th>\n",
       "      <th>City</th>\n",
       "      <th>Lat</th>\n",
       "      <th>Lng</th>\n",
       "      <th>Max Temp</th>\n",
       "      <th>Humidity</th>\n",
       "      <th>Cloudiness</th>\n",
       "      <th>Wind Speed</th>\n",
       "      <th>Country</th>\n",
       "      <th>Date</th>\n",
       "    </tr>\n",
       "  </thead>\n",
       "  <tbody>\n",
       "    <tr>\n",
       "      <th>0</th>\n",
       "      <td>berberati</td>\n",
       "      <td>4.2612</td>\n",
       "      <td>15.7922</td>\n",
       "      <td>21.85</td>\n",
       "      <td>26</td>\n",
       "      <td>0</td>\n",
       "      <td>0.89</td>\n",
       "      <td>CF</td>\n",
       "      <td>1673299702</td>\n",
       "    </tr>\n",
       "    <tr>\n",
       "      <th>1</th>\n",
       "      <td>mossendjo</td>\n",
       "      <td>-2.9506</td>\n",
       "      <td>12.7261</td>\n",
       "      <td>20.98</td>\n",
       "      <td>99</td>\n",
       "      <td>100</td>\n",
       "      <td>0.56</td>\n",
       "      <td>CG</td>\n",
       "      <td>1673299702</td>\n",
       "    </tr>\n",
       "    <tr>\n",
       "      <th>2</th>\n",
       "      <td>bredasdorp</td>\n",
       "      <td>-34.5322</td>\n",
       "      <td>20.0403</td>\n",
       "      <td>20.87</td>\n",
       "      <td>81</td>\n",
       "      <td>2</td>\n",
       "      <td>1.46</td>\n",
       "      <td>ZA</td>\n",
       "      <td>1673299637</td>\n",
       "    </tr>\n",
       "    <tr>\n",
       "      <th>3</th>\n",
       "      <td>yellowknife</td>\n",
       "      <td>62.4560</td>\n",
       "      <td>-114.3525</td>\n",
       "      <td>-11.71</td>\n",
       "      <td>92</td>\n",
       "      <td>100</td>\n",
       "      <td>1.54</td>\n",
       "      <td>CA</td>\n",
       "      <td>1673299702</td>\n",
       "    </tr>\n",
       "    <tr>\n",
       "      <th>4</th>\n",
       "      <td>husavik</td>\n",
       "      <td>66.0449</td>\n",
       "      <td>-17.3389</td>\n",
       "      <td>1.47</td>\n",
       "      <td>99</td>\n",
       "      <td>100</td>\n",
       "      <td>7.38</td>\n",
       "      <td>IS</td>\n",
       "      <td>1673299702</td>\n",
       "    </tr>\n",
       "  </tbody>\n",
       "</table>\n",
       "</div>"
      ],
      "text/plain": [
       "          City      Lat       Lng  Max Temp  Humidity  Cloudiness  Wind Speed  \\\n",
       "0    berberati   4.2612   15.7922     21.85        26           0        0.89   \n",
       "1    mossendjo  -2.9506   12.7261     20.98        99         100        0.56   \n",
       "2   bredasdorp -34.5322   20.0403     20.87        81           2        1.46   \n",
       "3  yellowknife  62.4560 -114.3525    -11.71        92         100        1.54   \n",
       "4      husavik  66.0449  -17.3389      1.47        99         100        7.38   \n",
       "\n",
       "  Country        Date  \n",
       "0      CF  1673299702  \n",
       "1      CG  1673299702  \n",
       "2      ZA  1673299637  \n",
       "3      CA  1673299702  \n",
       "4      IS  1673299702  "
      ]
     },
     "execution_count": 5,
     "metadata": {},
     "output_type": "execute_result"
    }
   ],
   "source": [
    "# Display sample data\n",
    "city_data_df.head()"
   ]
  },
  {
   "cell_type": "code",
   "execution_count": 6,
   "metadata": {},
   "outputs": [],
   "source": [
    "# Export the City_Data into a csv\n",
    "city_data_df.to_csv(\"output_data/cities.csv\", index_label=\"City_ID\")"
   ]
  },
  {
   "cell_type": "code",
   "execution_count": 7,
   "metadata": {},
   "outputs": [
    {
     "data": {
      "text/plain": [
       "<bound method NDFrame.sample of                 City      Lat       Lng  Max Temp  Humidity  Cloudiness  \\\n",
       "City_ID                                                                   \n",
       "0          berberati   4.2612   15.7922     21.85        26           0   \n",
       "1          mossendjo  -2.9506   12.7261     20.98        99         100   \n",
       "2         bredasdorp -34.5322   20.0403     20.87        81           2   \n",
       "3        yellowknife  62.4560 -114.3525    -11.71        92         100   \n",
       "4            husavik  66.0449  -17.3389      1.47        99         100   \n",
       "...              ...      ...       ...       ...       ...         ...   \n",
       "551       winchester  51.0651   -1.3187      6.90        87          75   \n",
       "552            boffa  10.1667  -14.0333     25.38        40          82   \n",
       "553           murgab  37.4966   61.9714     -2.07       100         100   \n",
       "554         pasighat  28.0667   95.3333     12.63        50           0   \n",
       "555           bitung   1.4451  125.1824     25.47        80         100   \n",
       "\n",
       "         Wind Speed Country        Date  \n",
       "City_ID                                  \n",
       "0              0.89      CF  1673299702  \n",
       "1              0.56      CG  1673299702  \n",
       "2              1.46      ZA  1673299637  \n",
       "3              1.54      CA  1673299702  \n",
       "4              7.38      IS  1673299702  \n",
       "...             ...     ...         ...  \n",
       "551            2.06      GB  1673299835  \n",
       "552            1.19      GN  1673299835  \n",
       "553            7.20      TM  1673299835  \n",
       "554            1.72      IN  1673299836  \n",
       "555            1.11      ID  1673299837  \n",
       "\n",
       "[556 rows x 9 columns]>"
      ]
     },
     "execution_count": 7,
     "metadata": {},
     "output_type": "execute_result"
    }
   ],
   "source": [
    "# Read saved data\n",
    "city_data_df = pd.read_csv(\"output_data/cities.csv\", index_col=\"City_ID\")\n",
    "\n",
    "# Display sample data\n",
    "city_data_df.sample"
   ]
  },
  {
   "cell_type": "markdown",
   "metadata": {},
   "source": [
    "### Create the Scatter Plots Requested\n",
    "\n",
    "#### Latitude Vs. Temperature"
   ]
  },
  {
   "cell_type": "code",
   "execution_count": 38,
   "metadata": {
    "tags": []
   },
   "outputs": [
    {
     "data": {
      "image/png": "[encoded data removed]",
      "text/plain": [
       "<Figure size 432x288 with 1 Axes>"
      ]
     },
     "metadata": {
      "needs_background": "light"
     },
     "output_type": "display_data"
    }
   ],
   "source": [
    "# Build scatter plot for latitude vs. temperature\n",
    "xl = city_data_df['Lat']\n",
    "yt = city_data_df['Max Temp']\n",
    "plt.scatter(xl, yt, edgecolors='black')\n",
    "\n",
    "# Incorporate the other graph properties\n",
    "plt.title(\"City Latitude Vs. Temperature (12/3/22)\")\n",
    "plt.xlabel(\"Latitude\")\n",
    "plt.ylabel(\"Max Temperature (F)\")\n",
    "plt.grid(alpha=.4)\n",
    "\n",
    "# Save the figure\n",
    "plt.savefig(\"output_data/Fig1.png\", dpi=300, facecolor='white', transparent=False)\n",
    "\n",
    "# Show plot\n",
    "plt.show()"
   ]
  },
  {
   "cell_type": "markdown",
   "metadata": {},
   "source": [
    "#### Latitude Vs. Humidity"
   ]
  },
  {
   "cell_type": "code",
   "execution_count": 39,
   "metadata": {},
   "outputs": [
    {
     "data": {
      "image/png": "[encoded data removed]",
      "text/plain": [
       "<Figure size 432x288 with 1 Axes>"
      ]
     },
     "metadata": {
      "needs_background": "light"
     },
     "output_type": "display_data"
    }
   ],
   "source": [
    "# Build the scatter plots for latitude vs. humidity\n",
    "yh = city_data_df['Humidity']\n",
    "plt.scatter(xl, yh, edgecolors='black')\n",
    "\n",
    "# Incorporate the other graph properties\n",
    "plt.title(\"City Latitude Vs. Humidity (12/3/22)\")\n",
    "plt.xlabel(\"Latitude\")\n",
    "plt.ylabel(\"Humidity (%)\")\n",
    "plt.grid(alpha=.4)\n",
    "\n",
    "# Save the figure\n",
    "plt.savefig(\"output_data/Fig2.png\", dpi=300, facecolor='white', transparent=False)\n",
    "\n",
    "# Show plot\n",
    "plt.show()"
   ]
  },
  {
   "cell_type": "markdown",
   "metadata": {},
   "source": [
    "#### Latitude Vs. Cloudiness"
   ]
  },
  {
   "cell_type": "code",
   "execution_count": 40,
   "metadata": {},
   "outputs": [
    {
     "data": {
      "image/png": "[encoded data removed]",
      "text/plain": [
       "<Figure size 432x288 with 1 Axes>"
      ]
     },
     "metadata": {
      "needs_background": "light"
     },
     "output_type": "display_data"
    }
   ],
   "source": [
    "# Build the scatter plots for latitude vs. cloudiness\n",
    "yc = city_data_df['Cloudiness']\n",
    "plt.scatter(xl, yc, edgecolors='black')\n",
    "\n",
    "# Incorporate the other graph properties\n",
    "plt.title(\"City Latitude Vs. Cloudiness (12/3/22)\")\n",
    "plt.xlabel(\"Latitude\")\n",
    "plt.ylabel(\"Cloudiness (%)\")\n",
    "plt.grid(alpha=.4)\n",
    "\n",
    "# Save the figure\n",
    "plt.savefig(\"output_data/Fig3.png\", dpi=300, facecolor='white', transparent=False)\n",
    "\n",
    "# Show plot\n",
    "plt.show()"
   ]
  },
  {
   "cell_type": "markdown",
   "metadata": {},
   "source": [
    "#### Latitude vs. Wind Speed Plot"
   ]
  },
  {
   "cell_type": "code",
   "execution_count": 41,
   "metadata": {},
   "outputs": [
    {
     "data": {
      "image/png": "[encoded data removed]",
      "text/plain": [
       "<Figure size 432x288 with 1 Axes>"
      ]
     },
     "metadata": {
      "needs_background": "light"
     },
     "output_type": "display_data"
    }
   ],
   "source": [
    "# Build the scatter plots for latitude vs. wind speed\n",
    "yw = city_data_df['Wind Speed']\n",
    "plt.scatter(xl, yh, edgecolors='black')\n",
    "\n",
    "# Incorporate the other graph properties\n",
    "plt.title(\"City Latitude Vs. Wind Speed (12/3/22)\")\n",
    "plt.xlabel(\"Latitude\")\n",
    "plt.ylabel(\"Wind Speed (m/s)\")\n",
    "plt.grid(alpha=.4)\n",
    "\n",
    "# Save the figure\n",
    "plt.savefig(\"output_data/Fig4.png\", dpi=300, facecolor='white', transparent=False)\n",
    "\n",
    "# Show plot\n",
    "plt.show()"
   ]
  },
  {
   "cell_type": "markdown",
   "metadata": {},
   "source": [
    "---\n",
    "\n",
    "## Requirement 2: Compute Linear Regression for Each Relationship\n"
   ]
  },
  {
   "cell_type": "code",
   "execution_count": 42,
   "metadata": {},
   "outputs": [],
   "source": [
    "# Define a function to create Linear Regression plots\n",
    "def LR(x, y, xl, yl):\n",
    "    (slope, intercept, rvalue, pvalue, stderr) = linregress(x, y)\n",
    "    regress_values = x * slope + intercept\n",
    "    line_eq = \"y = \" + str(round(slope,2)) + \"x + \" + str(round(intercept,2))\n",
    "    \n",
    "    plt.scatter(x, y)\n",
    "    plt.xlabel(xl)\n",
    "    plt.ylabel(yl)    \n",
    "    print(f\"The r-squared is: {rvalue**2}\")\n",
    "    print(line_eq)\n",
    "    plt.plot(x, regress_values, \"r-\")\n",
    "    #plt.annotate(line_eq, xy=(25, 30), fontsize=14, color=\"red\")\n",
    "    plt.show()\n"
   ]
  },
  {
   "cell_type": "code",
   "execution_count": 43,
   "metadata": {},
   "outputs": [
    {
     "data": {
      "text/html": [
       "<div>\n",
       "<style scoped>\n",
       "    .dataframe tbody tr th:only-of-type {\n",
       "        vertical-align: middle;\n",
       "    }\n",
       "\n",
       "    .dataframe tbody tr th {\n",
       "        vertical-align: top;\n",
       "    }\n",
       "\n",
       "    .dataframe thead th {\n",
       "        text-align: right;\n",
       "    }\n",
       "</style>\n",
       "<table border=\"1\" class=\"dataframe\">\n",
       "  <thead>\n",
       "    <tr style=\"text-align: right;\">\n",
       "      <th></th>\n",
       "      <th>City</th>\n",
       "      <th>Lat</th>\n",
       "      <th>Lng</th>\n",
       "      <th>Max Temp</th>\n",
       "      <th>Humidity</th>\n",
       "      <th>Cloudiness</th>\n",
       "      <th>Wind Speed</th>\n",
       "      <th>Country</th>\n",
       "      <th>Date</th>\n",
       "    </tr>\n",
       "    <tr>\n",
       "      <th>City_ID</th>\n",
       "      <th></th>\n",
       "      <th></th>\n",
       "      <th></th>\n",
       "      <th></th>\n",
       "      <th></th>\n",
       "      <th></th>\n",
       "      <th></th>\n",
       "      <th></th>\n",
       "      <th></th>\n",
       "    </tr>\n",
       "  </thead>\n",
       "  <tbody>\n",
       "    <tr>\n",
       "      <th>0</th>\n",
       "      <td>berberati</td>\n",
       "      <td>4.2612</td>\n",
       "      <td>15.7922</td>\n",
       "      <td>21.85</td>\n",
       "      <td>26</td>\n",
       "      <td>0</td>\n",
       "      <td>0.89</td>\n",
       "      <td>CF</td>\n",
       "      <td>1673299702</td>\n",
       "    </tr>\n",
       "    <tr>\n",
       "      <th>3</th>\n",
       "      <td>yellowknife</td>\n",
       "      <td>62.4560</td>\n",
       "      <td>-114.3525</td>\n",
       "      <td>-11.71</td>\n",
       "      <td>92</td>\n",
       "      <td>100</td>\n",
       "      <td>1.54</td>\n",
       "      <td>CA</td>\n",
       "      <td>1673299702</td>\n",
       "    </tr>\n",
       "    <tr>\n",
       "      <th>4</th>\n",
       "      <td>husavik</td>\n",
       "      <td>66.0449</td>\n",
       "      <td>-17.3389</td>\n",
       "      <td>1.47</td>\n",
       "      <td>99</td>\n",
       "      <td>100</td>\n",
       "      <td>7.38</td>\n",
       "      <td>IS</td>\n",
       "      <td>1673299702</td>\n",
       "    </tr>\n",
       "    <tr>\n",
       "      <th>5</th>\n",
       "      <td>astana</td>\n",
       "      <td>51.1801</td>\n",
       "      <td>71.4460</td>\n",
       "      <td>-31.03</td>\n",
       "      <td>76</td>\n",
       "      <td>0</td>\n",
       "      <td>5.00</td>\n",
       "      <td>KZ</td>\n",
       "      <td>1673299703</td>\n",
       "    </tr>\n",
       "    <tr>\n",
       "      <th>7</th>\n",
       "      <td>ilulissat</td>\n",
       "      <td>69.2167</td>\n",
       "      <td>-51.1000</td>\n",
       "      <td>-18.99</td>\n",
       "      <td>65</td>\n",
       "      <td>20</td>\n",
       "      <td>1.03</td>\n",
       "      <td>GL</td>\n",
       "      <td>1673299703</td>\n",
       "    </tr>\n",
       "  </tbody>\n",
       "</table>\n",
       "</div>"
      ],
      "text/plain": [
       "                City      Lat       Lng  Max Temp  Humidity  Cloudiness  \\\n",
       "City_ID                                                                   \n",
       "0          berberati   4.2612   15.7922     21.85        26           0   \n",
       "3        yellowknife  62.4560 -114.3525    -11.71        92         100   \n",
       "4            husavik  66.0449  -17.3389      1.47        99         100   \n",
       "5             astana  51.1801   71.4460    -31.03        76           0   \n",
       "7          ilulissat  69.2167  -51.1000    -18.99        65          20   \n",
       "\n",
       "         Wind Speed Country        Date  \n",
       "City_ID                                  \n",
       "0              0.89      CF  1673299702  \n",
       "3              1.54      CA  1673299702  \n",
       "4              7.38      IS  1673299702  \n",
       "5              5.00      KZ  1673299703  \n",
       "7              1.03      GL  1673299703  "
      ]
     },
     "execution_count": 43,
     "metadata": {},
     "output_type": "execute_result"
    }
   ],
   "source": [
    "# Create a DataFrame with the Northern Hemisphere data (Latitude >= 0)\n",
    "northern_hemi_df = city_data_df.loc[city_data_df['Lat']>= 0]\n",
    "\n",
    "# Display sample data\n",
    "northern_hemi_df.head()"
   ]
  },
  {
   "cell_type": "code",
   "execution_count": 44,
   "metadata": {},
   "outputs": [
    {
     "data": {
      "text/html": [
       "<div>\n",
       "<style scoped>\n",
       "    .dataframe tbody tr th:only-of-type {\n",
       "        vertical-align: middle;\n",
       "    }\n",
       "\n",
       "    .dataframe tbody tr th {\n",
       "        vertical-align: top;\n",
       "    }\n",
       "\n",
       "    .dataframe thead th {\n",
       "        text-align: right;\n",
       "    }\n",
       "</style>\n",
       "<table border=\"1\" class=\"dataframe\">\n",
       "  <thead>\n",
       "    <tr style=\"text-align: right;\">\n",
       "      <th></th>\n",
       "      <th>City</th>\n",
       "      <th>Lat</th>\n",
       "      <th>Lng</th>\n",
       "      <th>Max Temp</th>\n",
       "      <th>Humidity</th>\n",
       "      <th>Cloudiness</th>\n",
       "      <th>Wind Speed</th>\n",
       "      <th>Country</th>\n",
       "      <th>Date</th>\n",
       "    </tr>\n",
       "    <tr>\n",
       "      <th>City_ID</th>\n",
       "      <th></th>\n",
       "      <th></th>\n",
       "      <th></th>\n",
       "      <th></th>\n",
       "      <th></th>\n",
       "      <th></th>\n",
       "      <th></th>\n",
       "      <th></th>\n",
       "      <th></th>\n",
       "    </tr>\n",
       "  </thead>\n",
       "  <tbody>\n",
       "    <tr>\n",
       "      <th>1</th>\n",
       "      <td>mossendjo</td>\n",
       "      <td>-2.9506</td>\n",
       "      <td>12.7261</td>\n",
       "      <td>20.98</td>\n",
       "      <td>99</td>\n",
       "      <td>100</td>\n",
       "      <td>0.56</td>\n",
       "      <td>CG</td>\n",
       "      <td>1673299702</td>\n",
       "    </tr>\n",
       "    <tr>\n",
       "      <th>2</th>\n",
       "      <td>bredasdorp</td>\n",
       "      <td>-34.5322</td>\n",
       "      <td>20.0403</td>\n",
       "      <td>20.87</td>\n",
       "      <td>81</td>\n",
       "      <td>2</td>\n",
       "      <td>1.46</td>\n",
       "      <td>ZA</td>\n",
       "      <td>1673299637</td>\n",
       "    </tr>\n",
       "    <tr>\n",
       "      <th>6</th>\n",
       "      <td>hobart</td>\n",
       "      <td>-42.8794</td>\n",
       "      <td>147.3294</td>\n",
       "      <td>15.70</td>\n",
       "      <td>77</td>\n",
       "      <td>75</td>\n",
       "      <td>1.54</td>\n",
       "      <td>AU</td>\n",
       "      <td>1673299703</td>\n",
       "    </tr>\n",
       "    <tr>\n",
       "      <th>8</th>\n",
       "      <td>mataura</td>\n",
       "      <td>-46.1927</td>\n",
       "      <td>168.8643</td>\n",
       "      <td>19.52</td>\n",
       "      <td>61</td>\n",
       "      <td>100</td>\n",
       "      <td>0.09</td>\n",
       "      <td>NZ</td>\n",
       "      <td>1673299704</td>\n",
       "    </tr>\n",
       "    <tr>\n",
       "      <th>11</th>\n",
       "      <td>new norfolk</td>\n",
       "      <td>-42.7826</td>\n",
       "      <td>147.0587</td>\n",
       "      <td>15.51</td>\n",
       "      <td>66</td>\n",
       "      <td>72</td>\n",
       "      <td>0.81</td>\n",
       "      <td>AU</td>\n",
       "      <td>1673299704</td>\n",
       "    </tr>\n",
       "  </tbody>\n",
       "</table>\n",
       "</div>"
      ],
      "text/plain": [
       "                City      Lat       Lng  Max Temp  Humidity  Cloudiness  \\\n",
       "City_ID                                                                   \n",
       "1          mossendjo  -2.9506   12.7261     20.98        99         100   \n",
       "2         bredasdorp -34.5322   20.0403     20.87        81           2   \n",
       "6             hobart -42.8794  147.3294     15.70        77          75   \n",
       "8            mataura -46.1927  168.8643     19.52        61         100   \n",
       "11       new norfolk -42.7826  147.0587     15.51        66          72   \n",
       "\n",
       "         Wind Speed Country        Date  \n",
       "City_ID                                  \n",
       "1              0.56      CG  1673299702  \n",
       "2              1.46      ZA  1673299637  \n",
       "6              1.54      AU  1673299703  \n",
       "8              0.09      NZ  1673299704  \n",
       "11             0.81      AU  1673299704  "
      ]
     },
     "execution_count": 44,
     "metadata": {},
     "output_type": "execute_result"
    }
   ],
   "source": [
    "# Create a DataFrame with the Southern Hemisphere data (Latitude < 0)\n",
    "southern_hemi_df = city_data_df.loc[city_data_df['Lat']<= 0]\n",
    "\n",
    "# Display sample data\n",
    "southern_hemi_df.head()"
   ]
  },
  {
   "cell_type": "markdown",
   "metadata": {},
   "source": [
    "###  Temperature vs. Latitude Linear Regression Plot"
   ]
  },
  {
   "cell_type": "code",
   "execution_count": 45,
   "metadata": {},
   "outputs": [
    {
     "name": "stdout",
     "output_type": "stream",
     "text": [
      "The r-squared is: 0.690141207237041\n",
      "y = -0.8x + 35.09\n"
     ]
    },
    {
     "data": {
      "image/png": "[encoded data removed]",
      "text/plain": [
       "<Figure size 432x288 with 1 Axes>"
      ]
     },
     "metadata": {
      "needs_background": "light"
     },
     "output_type": "display_data"
    }
   ],
   "source": [
    "# Linear regression on Northern Hemisphere\n",
    "x = northern_hemi_df['Lat']\n",
    "y = northern_hemi_df['Max Temp']\n",
    "\n",
    "LR(x, y, xl=\"Latitude\", yl=\"Max Temp\")"
   ]
  },
  {
   "cell_type": "code",
   "execution_count": 46,
   "metadata": {},
   "outputs": [
    {
     "name": "stdout",
     "output_type": "stream",
     "text": [
      "The r-squared is: 0.18149174215893787\n",
      "y = 0.14x + 26.57\n"
     ]
    },
    {
     "data": {
      "image/png": "[encoded data removed]",
      "text/plain": [
       "<Figure size 432x288 with 1 Axes>"
      ]
     },
     "metadata": {
      "needs_background": "light"
     },
     "output_type": "display_data"
    }
   ],
   "source": [
    "# Linear regression on Southern Hemisphere\n",
    "x = southern_hemi_df['Lat']\n",
    "y = southern_hemi_df['Max Temp']\n",
    "\n",
    "LR(x, y, xl=\"Latitude\", yl=\"Max Temp\")"
   ]
  },
  {
   "cell_type": "markdown",
   "metadata": {},
   "source": [
    "**Discussion about the linear relationship:** \n",
    "    The Northern Hemisphere's temperature decreases as the latitude increases being a STRONG NEGATIVE relationship. The Southern Hemisphere's temperature increases as the latitude increases. The plots are more spaced but the line of best fit is rising as latitude increases, meaning the Southern HEmisphere is showing a WEAK POSITIVE relationship."
   ]
  },
  {
   "cell_type": "markdown",
   "metadata": {},
   "source": [
    "### Humidity vs. Latitude Linear Regression Plot"
   ]
  },
  {
   "cell_type": "code",
   "execution_count": 47,
   "metadata": {},
   "outputs": [
    {
     "name": "stdout",
     "output_type": "stream",
     "text": [
      "The r-squared is: 0.21934202139182013\n",
      "y = 0.51x + 53.46\n"
     ]
    },
    {
     "data": {
      "image/png": "[encoded data removed]",
      "text/plain": [
       "<Figure size 432x288 with 1 Axes>"
      ]
     },
     "metadata": {
      "needs_background": "light"
     },
     "output_type": "display_data"
    }
   ],
   "source": [
    "# Northern Hemisphere\n",
    "x = northern_hemi_df['Lat']\n",
    "y = northern_hemi_df['Humidity']\n",
    "\n",
    "LR(x, y, xl=\"Latitude\", yl=\"Humidity\")"
   ]
  },
  {
   "cell_type": "code",
   "execution_count": 48,
   "metadata": {},
   "outputs": [
    {
     "name": "stdout",
     "output_type": "stream",
     "text": [
      "The r-squared is: 0.06594403336214791\n",
      "y = 0.36x + 82.22\n"
     ]
    },
    {
     "data": {
      "image/png": "[encoded data removed]",
      "text/plain": [
       "<Figure size 432x288 with 1 Axes>"
      ]
     },
     "metadata": {
      "needs_background": "light"
     },
     "output_type": "display_data"
    }
   ],
   "source": [
    "# Southern Hemisphere\n",
    "x = southern_hemi_df['Lat']\n",
    "y = southern_hemi_df['Humidity']\n",
    "\n",
    "LR(x, y, xl=\"Latitude\", yl=\"Humidity\")"
   ]
  },
  {
   "cell_type": "markdown",
   "metadata": {},
   "source": [
    "**Discussion about the linear relationship:** \n",
    "    The Northern Hemisphere shows a STRONG POSITIVE with the plots being more compact together and the line of best fit increasing as latitude increases. The Southern Hemisphere also shows an increasing line of best fit while latitude increases BUT with the plots being more spread out, it represents a WEAK POSITIVE releationship."
   ]
  },
  {
   "cell_type": "markdown",
   "metadata": {},
   "source": [
    "### Cloudiness vs. Latitude Linear Regression Plot"
   ]
  },
  {
   "cell_type": "code",
   "execution_count": 49,
   "metadata": {},
   "outputs": [
    {
     "name": "stdout",
     "output_type": "stream",
     "text": [
      "The r-squared is: 0.009701771264972753\n",
      "y = 0.2x + 44.59\n"
     ]
    },
    {
     "data": {
      "image/png": "[encoded data removed]",
      "text/plain": [
       "<Figure size 432x288 with 1 Axes>"
      ]
     },
     "metadata": {
      "needs_background": "light"
     },
     "output_type": "display_data"
    }
   ],
   "source": [
    "# Northern Hemisphere\n",
    "x = northern_hemi_df['Lat']\n",
    "y = northern_hemi_df['Cloudiness']\n",
    "\n",
    "LR(x, y, xl=\"Latitude\", yl=\"Cloudiness\")"
   ]
  },
  {
   "cell_type": "code",
   "execution_count": 50,
   "metadata": {},
   "outputs": [
    {
     "name": "stdout",
     "output_type": "stream",
     "text": [
      "The r-squared is: 0.09586290496484964\n",
      "y = 0.89x + 77.38\n"
     ]
    },
    {
     "data": {
      "image/png": "[encoded data removed]",
      "text/plain": [
       "<Figure size 432x288 with 1 Axes>"
      ]
     },
     "metadata": {
      "needs_background": "light"
     },
     "output_type": "display_data"
    }
   ],
   "source": [
    "# Southern Hemisphere\n",
    "x = southern_hemi_df['Lat']\n",
    "y = southern_hemi_df['Cloudiness']\n",
    "\n",
    "LR(x, y, xl=\"Latitude\", yl=\"Cloudiness\")"
   ]
  },
  {
   "cell_type": "markdown",
   "metadata": {},
   "source": [
    "**Discussion about the linear relationship:** \n",
    "    The Northern Hemisphere shows a STRONG POSITIVE with having more condensed plots while the Southern Hemisphere shows a WEAK POSITIVE with more spaced out plots. "
   ]
  },
  {
   "cell_type": "markdown",
   "metadata": {},
   "source": [
    "### Wind Speed vs. Latitude Linear Regression Plot"
   ]
  },
  {
   "cell_type": "code",
   "execution_count": 51,
   "metadata": {},
   "outputs": [
    {
     "name": "stdout",
     "output_type": "stream",
     "text": [
      "The r-squared is: 0.008795604033794872\n",
      "y = 0.01x + 3.41\n"
     ]
    },
    {
     "data": {
      "image/png": "[encoded data removed]",
      "text/plain": [
       "<Figure size 432x288 with 1 Axes>"
      ]
     },
     "metadata": {
      "needs_background": "light"
     },
     "output_type": "display_data"
    }
   ],
   "source": [
    "# Northern Hemisphere\n",
    "x = northern_hemi_df['Lat']\n",
    "y = northern_hemi_df['Wind Speed']\n",
    "\n",
    "LR(x, y, xl=\"Latitude\", yl=\"Wind Speed\")"
   ]
  },
  {
   "cell_type": "code",
   "execution_count": 52,
   "metadata": {},
   "outputs": [
    {
     "name": "stdout",
     "output_type": "stream",
     "text": [
      "The r-squared is: 0.104365946530804\n",
      "y = -0.06x + 2.37\n"
     ]
    },
    {
     "data": {
      "image/png": "[encoded data removed]",
      "text/plain": [
       "<Figure size 432x288 with 1 Axes>"
      ]
     },
     "metadata": {
      "needs_background": "light"
     },
     "output_type": "display_data"
    }
   ],
   "source": [
    "# Southern Hemisphere\n",
    "x = southern_hemi_df['Lat']\n",
    "y = southern_hemi_df['Wind Speed']\n",
    "\n",
    "LR(x, y, xl=\"Latitude\", yl=\"Wind Speed\")"
   ]
  },
  {
   "cell_type": "markdown",
   "metadata": {},
   "source": [
    "**Discussion about the linear relationship:** \n",
    "    In both the scatter plots, the majority of windspeed by latidude appears to be below the 8 mark by windspeed. For the Northern Hemisphere there are more higher windspeed as latidude increases being a STRONG POSITIVE. However the Southern Hemisphere appears to be a WEAK NEGATIVE. "
   ]
  },
  {
   "cell_type": "code",
   "execution_count": null,
   "metadata": {},
   "outputs": [],
   "source": []
  }
 ],
 "metadata": {
  "anaconda-cloud": {},
  "kernel_info": {
   "name": "python3"
  },
  "kernelspec": {
   "display_name": "Python 3 (ipykernel)",
   "language": "python",
   "name": "python3"
  },
  "language_info": {
   "codemirror_mode": {
    "name": "ipython",
    "version": 3
   },
   "file_extension": ".py",
   "mimetype": "text/x-python",
   "name": "python",
   "nbconvert_exporter": "python",
   "pygments_lexer": "ipython3",
   "version": "3.9.12"
  },
  "latex_envs": {
   "LaTeX_envs_menu_present": true,
   "autoclose": false,
   "autocomplete": true,
   "bibliofile": "biblio.bib",
   "cite_by": "apalike",
   "current_citInitial": 1,
   "eqLabelWithNumbers": true,
   "eqNumInitial": 1,
   "hotkeys": {
    "equation": "Ctrl-E",
    "itemize": "Ctrl-I"
   },
   "labels_anchors": false,
   "latex_user_defs": false,
   "report_style_numbering": false,
   "user_envs_cfg": false
  },
  "nteract": {
   "version": "0.12.3"
  },
  "vscode": {
   "interpreter": {
    "hash": "f08154012ddadd8e950e6e9e035c7a7b32c136e7647e9b7c77e02eb723a8bedb"
   }
  }
 },
 "nbformat": 4,
 "nbformat_minor": 4
}
